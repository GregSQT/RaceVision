{
 "cells": [
  {
   "cell_type": "markdown",
   "metadata": {
    "id": "t3XyRRv59HSc"
   },
   "source": [
    "# RaceVision : F1 Lap-by-Lap Race Prediction\n",
    "Data are from Ergast DB : http://ergast.com/mrd/db/  \n",
    "\n",
    "This model uses an LSTM to predict the positions, laptimes and pitstops for 20 drivers. \n",
    "Features to add : \n",
    "- Weather\n",
    "- Tyres and track types\n",
    "- (if rules chage, fuel weight impact on lap time and pit stop)"
   ]
  },
  {
   "cell_type": "markdown",
   "metadata": {},
   "source": [
    "## Initialization - OK"
   ]
  },
  {
   "cell_type": "code",
   "execution_count": 1,
   "metadata": {
    "id": "doNwHl0MW1Gc"
   },
   "outputs": [
    {
     "name": "stdout",
     "output_type": "stream",
     "text": [
      "cuda available? True\n",
      "cuda count    1\n",
      "GPU name      NVIDIA GeForce RTX 4060 Laptop GPU\n"
     ]
    }
   ],
   "source": [
    "#%pip install ipywidgets\n",
    "#%pip install matplotlib\n",
    "import matplotlib.pyplot as plt\n",
    "#%pip install pandas\n",
    "import pandas as pd\n",
    "#%pip install numpy\n",
    "import numpy as np\n",
    "#%pip install tqdm\n",
    "from tqdm.auto import tqdm\n",
    "#%pip install os\n",
    "import os\n",
    "#%pip uninstall -y torch torchvision torchaudio\n",
    "#%pip install --no-cache-dir --force-reinstall \\\n",
    "#    torch torchvision torchaudio \\\n",
    "#    --index-url https://download.pytorch.org/whl/cu128\n",
    "import torch, torch.nn as nn, torch.optim as optim, torch.nn.functional as F\n",
    "import torch.backends.cudnn as cudnn\n",
    "from torch.utils.data import DataLoader\n",
    "print(\"cuda available?\", torch.cuda.is_available())\n",
    "print(\"cuda count   \", torch.cuda.device_count())\n",
    "if torch.cuda.is_available():\n",
    "    print(\"GPU name     \", torch.cuda.get_device_name(0))\n",
    "#%pip install math\n",
    "import math\n",
    "#%pip install pathlib\n",
    "from pathlib import Path"
   ]
  },
  {
   "cell_type": "code",
   "execution_count": 2,
   "metadata": {},
   "outputs": [],
   "source": [
    "versionId = \"1.0\""
   ]
  },
  {
   "cell_type": "code",
   "execution_count": 3,
   "metadata": {
    "id": "TRzwB-Te0RVX"
   },
   "outputs": [],
   "source": [
    "# Directory where the raw CSV and processed data live\n",
    "db_dir = Path(r\"E:\\Dropbox\\Informatique\\Holberton\\F1_Project\\db\")"
   ]
  },
  {
   "cell_type": "code",
   "execution_count": 4,
   "metadata": {
    "id": "cL9wd2FF_l8m"
   },
   "outputs": [],
   "source": [
    "# The time format in the Ergast database is MM:SS.ms\n",
    "# For a better work, we split aroud the \":\" and express it in seconds (float)\n",
    "def time_to_int(t):\n",
    "  # If input is already float type, return as-is\n",
    "  if (t == float):\n",
    "    return t\n",
    "  t2 = str(t)\n",
    "  ts = t2.rsplit(':')\n",
    "  # Handle missing values\n",
    "  if ('\\\\N' in t2):\n",
    "    return None # missing data\n",
    "  if (not '.' in t2):\n",
    "    return None # unexpected format\n",
    "  # Convert minutes and seconds to total seconds\n",
    "  if (len(ts) > 1):\n",
    "    return int(ts[0]) * 60 + float(ts[1])\n",
    "  else:\n",
    "    return float(ts[0])"
   ]
  },
  {
   "cell_type": "markdown",
   "metadata": {
    "id": "6TwmxP89Z2Ju"
   },
   "source": [
    "### Functions used to get information from .csv files"
   ]
  },
  {
   "cell_type": "code",
   "execution_count": 5,
   "metadata": {
    "id": "vGPOgJoMscTi"
   },
   "outputs": [],
   "source": [
    "# Load metadata tables once for lookup\n",
    "races = pd.read_csv(db_dir / 'races.csv')\n",
    "circuits = pd.read_csv(db_dir / 'circuits.csv')\n",
    "drivers = pd.read_csv(db_dir / 'drivers.csv')\n",
    "constructors = pd.read_csv(db_dir / 'constructors.csv')\n",
    "status = pd.read_csv(db_dir / 'status.csv')\n",
    "\n",
    "def race_info(raceId):\n",
    "  # Retrieve year, round, and circuitId for a given raceId\n",
    "  _races = races\n",
    "  _r = _races.query(f'raceId  == {raceId}')\n",
    "  if (_r.empty):\n",
    "    return None, None, None\n",
    "  _year = _r['year'].item()\n",
    "  _round = _r['round'].item()\n",
    "  _circuitId = _r['circuitId'].item()\n",
    "  return _year, _round, _circuitId\n",
    "\n",
    "def circuit_info(circuitId):\n",
    "  # Retrieve circuit name, location, country\n",
    "  _circuits = circuits\n",
    "  _c = _circuits.query(f'circuitId  == {circuitId}')\n",
    "  if (_c.empty):\n",
    "    return None, None, None\n",
    "  _name = _c['name'].item()\n",
    "  _location = _c['location'].item()\n",
    "  _country = _c['country'].item()\n",
    "  return _name, _location, _country\n",
    "\n",
    "def driver_info(id):\n",
    "  # Retrieve driver metadata (number, code, name, dob, nationality)\n",
    "  _drivers = drivers\n",
    "  _d = _drivers.query(f'driverId  == {id}')\n",
    "  if (_d.empty):\n",
    "    return None, None, None, None, None, None\n",
    "  _number = _d['number'].item()\n",
    "  _code = _d['code'].item()\n",
    "  _forename = _d['forename'].item()\n",
    "  _surname = _d['surname'].item()\n",
    "  _dob = _d['dob'].item()\n",
    "  _nationality = _d['nationality'].item()\n",
    "  return _number, _code, _forename, _surname, _dob, _nationality\n",
    "\n",
    "def constructor_info(id):\n",
    "  # Retrieve constructor name and nationality\n",
    "  _constructor = constructors\n",
    "  _c = _constructor.query(f'constructorId  == {id}')\n",
    "  if (_c.empty):\n",
    "    return None, None\n",
    "  _name = _c['name'].item()\n",
    "  _nationality = _c['nationality'].item()\n",
    "  return _name, _nationality\n",
    "\n",
    "def status_info(id):\n",
    "  # Retrieve textual status for a given statusId\n",
    "  _status = status\n",
    "  _s = _status.query(f'statusId == {id}')\n",
    "  if (_s.empty):\n",
    "    return None\n",
    "  _sstr = _s['status'].item()\n",
    "  return _sstr"
   ]
  },
  {
   "cell_type": "markdown",
   "metadata": {
    "id": "UOC-9UbSrKXq"
   },
   "source": [
    "## Data preparation - OK\n",
    "\n",
    "Each csv file contains informations for one race\n",
    "Each row in each file contains informations for one lap. \n",
    "\n",
    "We are using the files in <db_dir>/races/<year> generated by 1-DataPreparation.ipynb .  "
   ]
  },
  {
   "cell_type": "code",
   "execution_count": null,
   "metadata": {
    "id": "8T5m9ovEEigA"
   },
   "outputs": [],
   "source": [
    "# Creation of each year's folder\n",
    "years = range(2018, 2024)   #range(2001, 2024)\n",
    "for year in years:\n",
    "  if not os.path.exists(db_dir / f'races_npy/{year}'):\n",
    "        os.makedirs(db_dir / f'races_npy/{year}')"
   ]
  },
  {
   "cell_type": "markdown",
   "metadata": {
    "id": "dpNdHQIYTahB"
   },
   "source": [
    "### Status Embedding"
   ]
  },
  {
   "cell_type": "code",
   "execution_count": 7,
   "metadata": {
    "id": "8feUOOJ8qxHK"
   },
   "outputs": [],
   "source": [
    "stat_emb = [\n",
    "  [4.0, 3.0, 130.0], # Accident/Collision\n",
    "  [22.0, 5.0, 10.0, 23.0, 44.0, 47.0, 30.0, 32.0, 8.0, 38.0, 43.0, 85.0, 9.0, 86.0, 6.0, 2.0, 7.0, 87.0, 71.0, 41.0, 46.0, 37.0, 65.0, 78.0, 25.0, 74.0, 75.0, 26.0, 51.0, 40.0, 79.0, 36.0, 83.0, 80.0, 21.0, 69.0, 72.0, 70.0, 27.0, 60.0, 63.0, 29.0, 64.0, 66.0, 56.0, 59.0, 61.0, 42.0, 39.0, 48.0, 49.0, 34.0, 35.0, 28.0, 24.0, 33.0, 129.0, 76.0, 91.0, 131.0, 101.0, 132.0, 135.0,  84.0,  136.0,  105.0,  137.0,  138.0,  139.0], # Car issues\n",
    "  [11.0,  13.0,  12.0,  14.0,  17.0,  15.0,  16.0, 18.0,  55.0,  58.0,  45.0, 88.0], # Lapped\n",
    "  [0.0], # No problem\n",
    "  [77.0, 73.0, 82.0, 81.0, 62.0, 54.0, 31.0, 96.0], # Other\n",
    "  [20.0] #'Spun off'\n",
    "] \n",
    "\n",
    "def status_embed(id):\n",
    "  # Create a NumPy table with a length of 6, initialized to `0.0`.\n",
    "  # One-hot preparation\n",
    "  _emb = np.zeros(6)\n",
    "  # Upgrading the one-hot position corresponding tu the status\n",
    "  for i in range(6):\n",
    "    if id in stat_emb[i]:\n",
    "      _emb[i] = 1\n",
    "      return _emb\n",
    "  # If no status was found, set the 4th position on\n",
    "  _emb[4] = 1\n",
    "  return _emb # Other\n",
    "    # returns a binary vector of length 6 according to the category\n",
    "\n",
    "# Convert from the one-hot to a readable string\n",
    "def stat_unbed(array, retired=False):\n",
    "  _a = np.copy(array)\n",
    "  if (retired):\n",
    "    _a[3] = 0\n",
    "  _i = np.argmax(_a)\n",
    "  if (_i == 0):\n",
    "    return 'Accident/Collision'\n",
    "  elif (_i == 1):\n",
    "    return 'Car Issues'\n",
    "  elif (_i == 2):\n",
    "    return 'Lapped'\n",
    "  elif (_i == 3):\n",
    "    return 'No Problem'\n",
    "  elif (_i == 4):\n",
    "    return 'Other'\n",
    "  elif (_i == 5):\n",
    "    return 'Spun off'\n",
    "  else:\n",
    "    return 'something is wrong'"
   ]
  },
  {
   "cell_type": "markdown",
   "metadata": {
    "id": "DNoSIHcqTiUg"
   },
   "source": [
    "### Laptime embedding"
   ]
  },
  {
   "cell_type": "code",
   "execution_count": 8,
   "metadata": {
    "id": "X1WfVfRWTp2M"
   },
   "outputs": [],
   "source": [
    "def lapTime_embed(laptime):\n",
    "    # 1) Convert the lap time into an integer count of “tenths of seconds”\n",
    "    _lapTime = math.floor(laptime * 10)\n",
    "    # e.g. if laptime = 123.456 s → laptime*10 = 1234.56 → floor → _lapTime = 1234\n",
    "\n",
    "    # 2) Extract the four least-significant base-10 digits of that integer\n",
    "    _lapTime_emb = []\n",
    "    _ret = []\n",
    "    for i in range(4):\n",
    "        _lapTime_emb.append(int(_lapTime % 10))\n",
    "        _lapTime = math.floor(_lapTime / 10)\n",
    "    # After the loop, _lapTime_emb = [4, 3, 2, 1]  (digits, from least significant up)\n",
    "    # That corresponds to the original “1234” as 4 (ones), 3 (tens), 2 (hundreds), 1 (thousands)\n",
    "\n",
    "    # 3) Encode the hundredth of a second in 2 bits\n",
    "\t# - 0xx s → [0,0]\n",
    "\t# - 1xx s → [1,0]\n",
    "\t# - 2xx s → [0,1]\n",
    "\t# - ≥3xx s → [1,1]\n",
    "    _ret = np.zeros(2)\n",
    "    # We look at the most-significant of our four extracted digits:\n",
    "    msd = _lapTime_emb[-1]  # here msd = 1\n",
    "    if   msd == 1:\n",
    "        _ret[0] = 1    # category “1xxx”\n",
    "    elif msd == 2:\n",
    "        _ret[1] = 1    # category “2xxx”\n",
    "    elif (_lapTime_emb[-1] > 2):\n",
    "        _ret[0] = 1\n",
    "        _ret[0] = 1    # category “3xxx or above”  (both bits set)\n",
    "    # So for our example (msd=1), _ret becomes [1, 0].\n",
    "\n",
    "    # 4) For the remaining three digits (hundreds, tens, ones), one-hot encode each in turn\n",
    "    # We want three blocks of size 10, one per digit.\n",
    "    for i in range(3):          # pick idx 2 → hundreds, idx 1 → tens, idx 0 → ones\n",
    "        _t = np.zeros(10)       # Init of a 10 positions one-hot\n",
    "        _t[_lapTime_emb[2 - i]] = 1  # one-hot position for that digit\n",
    "        _ret = np.append(_ret, _t) \n",
    "    # Appending order:\n",
    "\t# i=0 → digit d2 (tens)\n",
    "\t# i=1 → digit d1 (units)\n",
    "\t# i=2 → digit d0 (tenths)\n",
    "    # After this, _ret has length 2 + 3*10 = 32, and looks like:\n",
    "    # [<2-bit category>, <one-hot for hundreds>, <one-hot for tens>, <one-hot for ones>]\n",
    "    return _ret\n",
    "\n",
    "def lt_unbed(l_array):\n",
    "  _ret = 0\n",
    "  if (l_array[0] >= 0.5 and l_array[1] >= 0.5):\n",
    "    _ret += 300\n",
    "  elif (l_array[0] >= 0.5):\n",
    "    _ret += 100\n",
    "  elif (l_array[1] >= 0.5):\n",
    "    _ret += 200\n",
    "  _ret += np.argmax(l_array[2:12]) * 10\n",
    "  _ret += np.argmax(l_array[12:22]) * 1\n",
    "  _ret += np.argmax(l_array[22:32]) * 0.1\n",
    "  return _ret"
   ]
  },
  {
   "cell_type": "code",
   "execution_count": 9,
   "metadata": {
    "colab": {
     "base_uri": "https://localhost:8080/"
    },
    "executionInfo": {
     "elapsed": 1092,
     "status": "ok",
     "timestamp": 1619131094822,
     "user": {
      "displayName": "Jared Chan",
      "photoUrl": "",
      "userId": "15404677321579359479"
     },
     "user_tz": 420
    },
    "id": "bNcs-qimie_D",
    "outputId": "f929e911-eb5e-47fe-9bce-1c7ed2b0b671"
   },
   "outputs": [
    {
     "name": "stdout",
     "output_type": "stream",
     "text": [
      "32\n"
     ]
    }
   ],
   "source": [
    "l = lapTime_embed(123.456)\n",
    "print(len(l))"
   ]
  },
  {
   "cell_type": "code",
   "execution_count": 10,
   "metadata": {
    "colab": {
     "base_uri": "https://localhost:8080/"
    },
    "executionInfo": {
     "elapsed": 1087,
     "status": "ok",
     "timestamp": 1619131094823,
     "user": {
      "displayName": "Jared Chan",
      "photoUrl": "",
      "userId": "15404677321579359479"
     },
     "user_tz": 420
    },
    "id": "tokdyAg2mhbM",
    "outputId": "2e94cf4e-9ebe-4288-89a1-3a81973fc20f"
   },
   "outputs": [
    {
     "name": "stdout",
     "output_type": "stream",
     "text": [
      "123.4\n"
     ]
    }
   ],
   "source": [
    "u = lt_unbed(l)\n",
    "print(u)"
   ]
  },
  {
   "cell_type": "markdown",
   "metadata": {
    "id": "kyIKx1qtU9hA"
   },
   "source": [
    "### DriverId embedding"
   ]
  },
  {
   "cell_type": "code",
   "execution_count": 11,
   "metadata": {
    "id": "OwhODVNNUnbE"
   },
   "outputs": [],
   "source": [
    "#drivers_short = pd.read_csv(db_dir / 'drivers_short.csv')\n",
    "# Build drivers_short from all your per-race CSVs under db_dir/races/\n",
    "driver_ids = set()\n",
    "for year_dir in (db_dir/'races').iterdir():\n",
    "    if not year_dir.is_dir(): \n",
    "        continue\n",
    "    for race_csv in sorted(year_dir.glob(\"*.csv\")):\n",
    "        df_r = pd.read_csv(race_csv)\n",
    "        # each race CSV has columns driverId1…driverId20\n",
    "        for k in range(1, 21):\n",
    "            driver_ids.update(df_r[f'driverId{k}'].unique())\n",
    "\n",
    "drivers_short = pd.DataFrame({'driverId': sorted(driver_ids)})\n",
    "\n",
    "# from driverId to our id\n",
    "def driver_embed_idx(driverId):\n",
    "    # Map an external `driverId` to an internal 1-based index for embedding lookup.\n",
    "    # Returns 0 if the driverId is not found (reserved for 'unknown').\n",
    "\n",
    "    # Query the DataFrame for rows matching the given driverId\n",
    "    row = drivers_short.query(f'driverId == {driverId}').index\n",
    "    # If no matching row exists, return 0 to indicate 'unknown driver'\n",
    "    if row.empty:\n",
    "        return 0\n",
    "    # Otherwise, return the 1-based index (add 1) so that 0 remains reserved\n",
    "    return row.item() + 1\n",
    "\n",
    "def driver_unbed_idx(idx):\n",
    "    # Convert an internal 1-based index back to the original external `driverId`.\n",
    "    row = drivers_short.iloc[idx - 1]\n",
    "    # Retrieve and return the original driverId from that row\n",
    "    return row['driverId']\n",
    "\n",
    "\n",
    "def driver_embed(idx):\n",
    "    # Generate a one-hot encoded vector from an internal index.\n",
    "    # Vector length is fixed at 130 (total drivers + 1), with position (idx-1) set to 1.\n",
    "\n",
    "    # Initialize a zero vector of length 130\n",
    "    _e = np.zeros(130)\n",
    "    # Set the position corresponding to this driver to 1\n",
    "    _e[idx - 1] = 1\n",
    "    return _e\n",
    "\n",
    "\n",
    "def driver_unbed(d_array):\n",
    "    # Recover the internal index from a one-hot encoded vector.\n",
    "    # np.argmax returns the first index of the max value (1 in a one-hot), 0-based\n",
    "    return np.argmax(d_array) + 1  # Convert back to 1-based index"
   ]
  },
  {
   "cell_type": "markdown",
   "metadata": {
    "id": "JAM3AG3YvglJ"
   },
   "source": [
    "### Generating the input and output `.npy` files"
   ]
  },
  {
   "cell_type": "code",
   "execution_count": 12,
   "metadata": {
    "colab": {
     "base_uri": "https://localhost:8080/"
    },
    "executionInfo": {
     "elapsed": 1023080,
     "status": "ok",
     "timestamp": 1619069006354,
     "user": {
      "displayName": "Jared Chan",
      "photoUrl": "",
      "userId": "15404677321579359479"
     },
     "user_tz": 420
    },
    "id": "MbVilrz6vmKD",
    "outputId": "50cd90fb-fe9b-4b14-9b13-7820625ee44e"
   },
   "outputs": [
    {
     "name": "stdout",
     "output_type": "stream",
     "text": [
      "Finished year 2018\n",
      "Finished year 2019\n",
      "Finished year 2020\n"
     ]
    }
   ],
   "source": [
    "years = range(2018, 2021)\n",
    "for year in years:\n",
    "    # Define the input directory for this year’s raw race CSVs\n",
    "    race_dir = db_dir / 'races' / str(year)\n",
    "    # If there’s no folder for that year, skip it\n",
    "    if not race_dir.exists():\n",
    "        print(f\"Skipping year {year} (no folder: {race_dir})\")\n",
    "        continue\n",
    "\n",
    "    # Define and create (if needed) the \n",
    "    # put directory for the year’s .npy files\n",
    "    out_dir = db_dir / 'races_npy' / str(year)\n",
    "    out_dir.mkdir(parents=True, exist_ok=True)\n",
    "\n",
    "    # Iterate over each race CSV file in chronological order\n",
    "    for counter, csv_path in enumerate(sorted(race_dir.iterdir())):\n",
    "        # Attempt to load the per-race CSV into a DataFrame\n",
    "        try:\n",
    "            cur_race = pd.read_csv(csv_path)\n",
    "        except Exception as e:\n",
    "            print(f\"  ▶ Failed to read CSV '{csv_path.name}': {e}\")\n",
    "            continue\n",
    "        \n",
    "        # Number of laps is rows minus the final “no next lap” row\n",
    "        nlaps = len(cur_race) - 1\n",
    "        if nlaps < 1:\n",
    "            print(f\"  ▶ Not enough laps in '{csv_path.name}', skipping\")\n",
    "            continue\n",
    "        \n",
    "        ###\n",
    "        ### Build input embeddings ###\n",
    "        ###\n",
    "\n",
    "        rows_in = []\n",
    "        # For each lap (excluding the last “future” row)\n",
    "        for i in range(nlaps):\n",
    "            # Read the full row as floats: [circuitId, then 20 × 7 driver features]\n",
    "            full = cur_race.iloc[i].values.astype(float)\n",
    "\n",
    "            # Extract and clamp circuitId, then one-hot encode into 130 dimensions\n",
    "            circuit_id = int(full[0])\n",
    "            # clamp circuit_id into valid range [0,129]\n",
    "            if circuit_id < 0 or circuit_id >= 130:\n",
    "                circuit_id = 0\n",
    "\n",
    "            # one-hot encode circuitId\n",
    "            cur_ret = np.zeros(130)\n",
    "            cur_ret[circuit_id] = 1\n",
    "\n",
    "            # Append normalized lap in race percentage progress (0.0–1.0)\n",
    "            lap_pct = i / nlaps\n",
    "            cur_ret = np.append(cur_ret, lap_pct)\n",
    "\n",
    "            # Drop circuitId and process each driver’s 7-feature block\n",
    "            blocks = full[1:]  # drop circuitId\n",
    "            for k in range(0, len(blocks), 7):\n",
    "                # 1) driverId → embedding index → one-hot (130)\n",
    "                idx = driver_embed_idx(int(blocks[k]))\n",
    "                cur_ret = np.append(cur_ret, driver_embed(idx))\n",
    "\n",
    "                # 2) driver standing → 3-bit flags (top1/2, top3, top10)\n",
    "                ds = np.zeros(3)\n",
    "                s = int(blocks[k+1]) - 1\n",
    "                if s <= 1:  ds[0] = 1\n",
    "                if s <= 3:  ds[1] = 1\n",
    "                if s <= 10: ds[2] = 1\n",
    "                cur_ret = np.append(cur_ret, ds)\n",
    "\n",
    "                # 3) constructor standing → 2-bit flags (top2, top3)\n",
    "                cs = np.zeros(2)\n",
    "                c = int(blocks[k+2]) - 1\n",
    "                if c <= 1: cs[0] = 1\n",
    "                if c <= 3: cs[1] = 1\n",
    "                cur_ret = np.append(cur_ret, cs)\n",
    "\n",
    "                # 4) position → one-hot over 21 possible finishing places\n",
    "                pos = np.zeros(21)\n",
    "                p = min(int(blocks[k+3]) - 1, 20)\n",
    "                pos[p] = 1\n",
    "                cur_ret = np.append(cur_ret, pos)\n",
    "\n",
    "                # 5) pit flag → binary\n",
    "                pit_flag = 1 if blocks[k+4] == 1 else 0\n",
    "                cur_ret = np.append(cur_ret, pit_flag)\n",
    "\n",
    "                # 6) status embedding → 6-bit one-hot\n",
    "                cur_ret = np.append(cur_ret, status_embed(int(blocks[k+5])))\n",
    "\n",
    "                # 7) laptime embedding (32 dims) + 1 placeholder\n",
    "                cur_ret = np.append(cur_ret, lapTime_embed(float(blocks[k+6])))\n",
    "                cur_ret = np.append(cur_ret, 0)  # reserved/random\n",
    "\n",
    "            # Collect the completed feature vector for lap i\n",
    "            rows_in.append(cur_ret)\n",
    "\n",
    "        # Stack all lap feature vectors into a 2D array and save as .npy\n",
    "        in_arr = np.stack(rows_in, axis=0)\n",
    "        np.save(str(out_dir / f\"{counter}_input.npy\"), in_arr)\n",
    "\n",
    "        ###\n",
    "        ### Build expected/output embeddings ###\n",
    "        ###\n",
    "\n",
    "        rows_out = []\n",
    "        # For each lap, look at the next-lap row for expected outputs\n",
    "        for i in range(nlaps):\n",
    "            full_next = cur_race.iloc[i+1].values.astype(float)\n",
    "            blocks = full_next[1:]\n",
    "            out_vec = []\n",
    "\n",
    "            # Decode each driver’s next-lap info\n",
    "            for k in range(0, len(blocks), 7):\n",
    "                # position one-hot (21 dims)\n",
    "                pos = np.zeros(21)\n",
    "                p = min(int(blocks[k+3]) - 1, 20)\n",
    "                pos[p] = 1\n",
    "                out_vec.extend(pos.tolist())\n",
    "\n",
    "                # normalized laps-to-pit (scalar)\n",
    "                out_vec.append(blocks[k+4] / nlaps)\n",
    "\n",
    "                # status embedding (6 dims) + laptime embedding (32 dims)\n",
    "                out_vec.extend(status_embed(int(blocks[k+5])).tolist())\n",
    "                out_vec.extend(lapTime_embed(float(blocks[k+6])).tolist())\n",
    "\n",
    "            # Convert this driver block into an array, then collect\n",
    "            rows_out.append(np.array(out_vec))\n",
    "\n",
    "        # Stack and save expected-output arrays\n",
    "        out_arr = np.stack(rows_out, axis=0)\n",
    "        np.save(str(out_dir / f\"{counter}_expected.npy\"), out_arr)\n",
    "\n",
    "    # Indicate completion of this year’s processing\n",
    "    print(f\"Finished year {year}\")"
   ]
  },
  {
   "cell_type": "code",
   "execution_count": 13,
   "metadata": {
    "colab": {
     "base_uri": "https://localhost:8080/"
    },
    "executionInfo": {
     "elapsed": 645,
     "status": "ok",
     "timestamp": 1619069007021,
     "user": {
      "displayName": "Jared Chan",
      "photoUrl": "",
      "userId": "15404677321579359479"
     },
     "user_tz": 420
    },
    "id": "g0Rpt5MqIFTU",
    "outputId": "39da1f74-777d-4cb4-a16d-41b876fd16d8"
   },
   "outputs": [
    {
     "data": {
      "text/plain": [
       "array([[0., 0., 0., ..., 0., 0., 0.],\n",
       "       [0., 0., 0., ..., 0., 0., 0.],\n",
       "       [0., 0., 0., ..., 0., 0., 0.],\n",
       "       ...,\n",
       "       [0., 0., 0., ..., 1., 0., 0.],\n",
       "       [0., 0., 0., ..., 0., 0., 0.],\n",
       "       [0., 0., 0., ..., 0., 0., 0.]])"
      ]
     },
     "execution_count": 13,
     "metadata": {},
     "output_type": "execute_result"
    }
   ],
   "source": [
    "t = np.load(db_dir / 'races_npy/2018/0_input.npy')\n",
    "t"
   ]
  },
  {
   "cell_type": "code",
   "execution_count": 14,
   "metadata": {
    "colab": {
     "base_uri": "https://localhost:8080/"
    },
    "executionInfo": {
     "elapsed": 634,
     "status": "ok",
     "timestamp": 1619069007022,
     "user": {
      "displayName": "Jared Chan",
      "photoUrl": "",
      "userId": "15404677321579359479"
     },
     "user_tz": 420
    },
    "id": "1CCQ2FEyIuSZ",
    "outputId": "e5d3c209-5fb8-4d06-c82f-8ccef6dda352"
   },
   "outputs": [
    {
     "data": {
      "text/plain": [
       "4051"
      ]
     },
     "execution_count": 14,
     "metadata": {},
     "output_type": "execute_result"
    }
   ],
   "source": [
    "len(t[0])"
   ]
  },
  {
   "cell_type": "markdown",
   "metadata": {
    "id": "BCwUhql_tkWE"
   },
   "source": [
    "Each data sample is a very long vector (4051) with the following features (and sizes):\n",
    "- circuit id (130)\n",
    "- lap number / total number of laps\n",
    "- for each driver:\n",
    "- - driver id (130)\n",
    "- - driver standing (3)\n",
    "- - constructor standing (2)\n",
    "- - position (21)\n",
    "- - pitting this lap OR laps/total number of laps till pitting (1) (input /output) (v1.1)\n",
    "- - status (6)\n",
    "- - laptime (32)\n",
    "- - random (1)"
   ]
  },
  {
   "cell_type": "code",
   "execution_count": 15,
   "metadata": {
    "id": "jW1vlDyLtVP0"
   },
   "outputs": [],
   "source": [
    "# To make feature size consistent, we use laptimes of top 20 drivers\n",
    "from pathlib import Path\n",
    "import os, numpy as np, torch\n",
    "\n",
    "\n",
    "class RaceDataset(torch.utils.data.Dataset):\n",
    "    def __init__(self, dir_path):\n",
    "        # root folder containing year subfolders of \"_input.npy\"/\"_expected.npy\"\n",
    "        self.dir = Path(dir_path)\n",
    "\n",
    "        # discover which seasons actually exist on disk\n",
    "        self.available_years = sorted(\n",
    "            int(p.name)\n",
    "            for p in self.dir.iterdir()\n",
    "            if p.is_dir() and p.name.isdigit()\n",
    "        )\n",
    "        if not self.available_years:\n",
    "            raise FileNotFoundError(f\"No year folders in {self.dir}\")\n",
    "\n",
    "        # start at the first available season\n",
    "        self.year = self.available_years[0]\n",
    "        self.round = 1\n",
    "        self.cache = {}\n",
    "\n",
    "        # count how many races (in-files) exist for this initial year\n",
    "        year_folder = self.dir / str(self.year)\n",
    "        self.cur_year = len([f for f in year_folder.iterdir() if f.name.endswith('_input.npy')])\n",
    "\n",
    "        # load the first round’s data\n",
    "        self._load_current_race()\n",
    "\n",
    "    def _load_current_race(self):\n",
    "        # Load self.cur_race from disk (and cache it).\n",
    "        year_folder = self.dir / str(self.year)\n",
    "        idx = min(self.round - 1, self.cur_year - 1)\n",
    "        in_file  = year_folder / f\"{idx}_input.npy\"\n",
    "        exp_file = year_folder / f\"{idx}_expected.npy\"\n",
    "\n",
    "        if not in_file.exists() or not exp_file.exists():\n",
    "            raise FileNotFoundError(f\"Missing files: {in_file}, {exp_file}\")\n",
    "\n",
    "        # convert to str for np.load\n",
    "        arr_in  = np.load(str(in_file))\n",
    "        arr_exp = np.load(str(exp_file))\n",
    "\n",
    "        self.cur_race = (arr_in, arr_exp)\n",
    "        self.cache[f\"{self.year}_{self.round}\"] = self.cur_race\n",
    "\n",
    "    def set_year(self, year):\n",
    "        # Change to a new season (year).\n",
    "        if year not in self.available_years:\n",
    "            raise ValueError(f\"Year {year} not found under {self.dir}\")\n",
    "        self.year = year\n",
    "        self.round = 1\n",
    "        year_folder = self.dir / str(self.year)\n",
    "        self.cur_year = len([f for f in year_folder.iterdir() if f.name.endswith('_input.npy')])\n",
    "        self._load_current_race()\n",
    "\n",
    "    def set_round(self, rnd):\n",
    "        # Change to a new round within the same year.\n",
    "        if not (1 <= rnd <= self.cur_year):\n",
    "            raise ValueError(f\"Round {rnd} out of range for season {self.year}\")\n",
    "        self.round = rnd\n",
    "        key = f\"{self.year}_{self.round}\"\n",
    "        if key in self.cache:\n",
    "            self.cur_race = self.cache[key]\n",
    "        else:\n",
    "            self._load_current_race()\n",
    "\n",
    "    def next_round(self):\n",
    "        # Advance to the next race, rolling over years as needed.\n",
    "        # if more races in this season, just increment round\n",
    "        if self.round < self.cur_year:\n",
    "            self.set_round(self.round + 1)\n",
    "            return\n",
    "\n",
    "        # otherwise move to the next available season (if any)\n",
    "        idx = self.available_years.index(self.year)\n",
    "        if idx + 1 < len(self.available_years):\n",
    "            self.year = self.available_years[idx + 1]\n",
    "            self.round = 1\n",
    "            year_folder = self.dir / str(self.year)\n",
    "            self.cur_year = len([f for f in year_folder.iterdir() if f.name.endswith('_input.npy')])\n",
    "            self._load_current_race()\n",
    "        # if no next season, do nothing (stop advancing)\n",
    "\n",
    "    def __len__(self):\n",
    "        # number of laps = number of input rows\n",
    "        return len(self.cur_race[0])\n",
    "\n",
    "    def __getitem__(self, i):\n",
    "        arr_in, arr_exp = self.cur_race\n",
    "        return torch.from_numpy(arr_in[i]), torch.from_numpy(arr_exp[i])\n"
   ]
  },
  {
   "cell_type": "code",
   "execution_count": 16,
   "metadata": {
    "id": "xBtUWhXVZLCc"
   },
   "outputs": [],
   "source": [
    "# Dataset preparation\n",
    "# only init once, cause \"caching\"\n",
    "ds = RaceDataset(db_dir / 'races_npy/')"
   ]
  },
  {
   "cell_type": "code",
   "execution_count": 17,
   "metadata": {},
   "outputs": [],
   "source": [
    "# Activation of the cuDNN optimisations\n",
    "cudnn.benchmark = True"
   ]
  },
  {
   "cell_type": "code",
   "execution_count": 18,
   "metadata": {
    "colab": {
     "base_uri": "https://localhost:8080/"
    },
    "executionInfo": {
     "elapsed": 773,
     "status": "ok",
     "timestamp": 1619069007166,
     "user": {
      "displayName": "Jared Chan",
      "photoUrl": "",
      "userId": "15404677321579359479"
     },
     "user_tz": 420
    },
    "id": "FebVl6LzrVLh",
    "outputId": "c5f66415-b503-480d-de55-06d64c895bda"
   },
   "outputs": [
    {
     "data": {
      "text/plain": [
       "(tensor([0., 0., 0.,  ..., 0., 0., 0.], dtype=torch.float64),\n",
       " tensor([1., 0., 0.,  ..., 0., 0., 0.], dtype=torch.float64))"
      ]
     },
     "execution_count": 18,
     "metadata": {},
     "output_type": "execute_result"
    }
   ],
   "source": [
    "ds[0]"
   ]
  },
  {
   "cell_type": "code",
   "execution_count": 19,
   "metadata": {
    "colab": {
     "base_uri": "https://localhost:8080/"
    },
    "executionInfo": {
     "elapsed": 765,
     "status": "ok",
     "timestamp": 1619069007166,
     "user": {
      "displayName": "Jared Chan",
      "photoUrl": "",
      "userId": "15404677321579359479"
     },
     "user_tz": 420
    },
    "id": "6NsgR9CkrgLC",
    "outputId": "3cd3253f-e014-437a-fa66-5d24a119bd3f"
   },
   "outputs": [
    {
     "data": {
      "text/plain": [
       "4051"
      ]
     },
     "execution_count": 19,
     "metadata": {},
     "output_type": "execute_result"
    }
   ],
   "source": [
    "len(ds[0][0])"
   ]
  },
  {
   "cell_type": "code",
   "execution_count": 20,
   "metadata": {
    "colab": {
     "base_uri": "https://localhost:8080/"
    },
    "executionInfo": {
     "elapsed": 759,
     "status": "ok",
     "timestamp": 1619069007167,
     "user": {
      "displayName": "Jared Chan",
      "photoUrl": "",
      "userId": "15404677321579359479"
     },
     "user_tz": 420
    },
    "id": "nKKAnSx9uJtx",
    "outputId": "62d14956-5a1f-4264-f1ec-88f9f728acc3"
   },
   "outputs": [
    {
     "data": {
      "text/plain": [
       "1200"
      ]
     },
     "execution_count": 20,
     "metadata": {},
     "output_type": "execute_result"
    }
   ],
   "source": [
    "len(ds[0][1])"
   ]
  },
  {
   "cell_type": "code",
   "execution_count": 21,
   "metadata": {
    "colab": {
     "base_uri": "https://localhost:8080/"
    },
    "executionInfo": {
     "elapsed": 751,
     "status": "ok",
     "timestamp": 1619069007167,
     "user": {
      "displayName": "Jared Chan",
      "photoUrl": "",
      "userId": "15404677321579359479"
     },
     "user_tz": 420
    },
    "id": "LYcR1V4_uhtw",
    "outputId": "73777821-23ca-4144-b6cd-c3b273569dc9"
   },
   "outputs": [
    {
     "data": {
      "text/plain": [
       "tensor(0., dtype=torch.float64)"
      ]
     },
     "execution_count": 21,
     "metadata": {},
     "output_type": "execute_result"
    }
   ],
   "source": [
    "ds[0][1][29*11+28]"
   ]
  },
  {
   "cell_type": "markdown",
   "metadata": {
    "id": "6r7pxxqdv0IT"
   },
   "source": [
    "### Helper function for displaying dataset input/output"
   ]
  },
  {
   "cell_type": "code",
   "execution_count": 22,
   "metadata": {
    "id": "EZsD8FQa5Naz"
   },
   "outputs": [],
   "source": [
    "def pos_df(lap_in, out, num_of_laps=1):\n",
    "    # prepare list to collect each driver's row\n",
    "    rows = []\n",
    "    _lap = lap_in.detach().cpu().numpy()\n",
    "    _o   = out.detach().cpu().numpy()\n",
    "\n",
    "    # decode circuit info\n",
    "    _name, _loc, _country = circuit_info(np.argmax(_lap[:130]))\n",
    "\n",
    "    for i in range(20):\n",
    "        # decode driver index from one-hot\n",
    "        start = 131 + i * 196\n",
    "        driver_block = _lap[start : start + 130]\n",
    "        _d_idx = driver_unbed_idx(driver_unbed(driver_block))\n",
    "\n",
    "        # lookup driver metadata\n",
    "        _num, _code, _fn, _ln, _, _ = driver_info(_d_idx)\n",
    "\n",
    "        # position\n",
    "        pos_block = _o[i*60 : i*60 + 21]\n",
    "        _pos = int(np.argmax(pos_block)) + 1\n",
    "\n",
    "        # laps-till-pitting\n",
    "        _pitting = float(_o[i*60+21]) * num_of_laps\n",
    "        if _pitting == 0:\n",
    "            _pitting = 'NA'\n",
    "\n",
    "        # status\n",
    "        retired = (_pos == 21)\n",
    "        status_block = _o[i*60 + 22 : i*60 + 28]\n",
    "        _status = stat_unbed(status_block, retired)\n",
    "\n",
    "        # lap time\n",
    "        laptime_block = _o[i*60 + 28 : i*60 + 60]\n",
    "        _time = lt_unbed(laptime_block)\n",
    "\n",
    "        # append this row to our list\n",
    "        rows.append({\n",
    "            'code': _code,\n",
    "            'driver': f'{_fn} {_ln}',\n",
    "            'position': _pos,\n",
    "            'laps till pitting': _pitting,\n",
    "            'status': _status,\n",
    "            'laptime': _time\n",
    "        })\n",
    "\n",
    "    # build DataFrame in one go and sort\n",
    "    df = pd.DataFrame(rows, columns=[\n",
    "        'code', 'driver', 'position', 'laps till pitting', 'status', 'laptime'\n",
    "    ])\n",
    "    df = df.sort_values(by=['position', 'laptime'], ascending=[True, False])\n",
    "    return _name, _loc, _country, df\n"
   ]
  },
  {
   "cell_type": "code",
   "execution_count": 23,
   "metadata": {
    "id": "Zwf_K0OhVLAc"
   },
   "outputs": [],
   "source": [
    "# Test with the 1st turn of the 1st race of 2018\n",
    "ds.set_year(2018)\n",
    "ds.set_round(1)\n",
    "_, _, _, df = pos_df(ds[1][0], ds[1][1])"
   ]
  },
  {
   "cell_type": "code",
   "execution_count": 24,
   "metadata": {
    "colab": {
     "base_uri": "https://localhost:8080/",
     "height": 669
    },
    "executionInfo": {
     "elapsed": 862,
     "status": "ok",
     "timestamp": 1619069007294,
     "user": {
      "displayName": "Jared Chan",
      "photoUrl": "",
      "userId": "15404677321579359479"
     },
     "user_tz": 420
    },
    "id": "vMDOtAcczLi_",
    "outputId": "f2b99355-e659-408c-80da-d479e1050748"
   },
   "outputs": [
    {
     "data": {
      "text/html": [
       "<div>\n",
       "<style scoped>\n",
       "    .dataframe tbody tr th:only-of-type {\n",
       "        vertical-align: middle;\n",
       "    }\n",
       "\n",
       "    .dataframe tbody tr th {\n",
       "        vertical-align: top;\n",
       "    }\n",
       "\n",
       "    .dataframe thead th {\n",
       "        text-align: right;\n",
       "    }\n",
       "</style>\n",
       "<table border=\"1\" class=\"dataframe\">\n",
       "  <thead>\n",
       "    <tr style=\"text-align: right;\">\n",
       "      <th></th>\n",
       "      <th>code</th>\n",
       "      <th>driver</th>\n",
       "      <th>position</th>\n",
       "      <th>laps till pitting</th>\n",
       "      <th>status</th>\n",
       "      <th>laptime</th>\n",
       "    </tr>\n",
       "  </thead>\n",
       "  <tbody>\n",
       "    <tr>\n",
       "      <th>0</th>\n",
       "      <td>HAM</td>\n",
       "      <td>Lewis Hamilton</td>\n",
       "      <td>1</td>\n",
       "      <td>NA</td>\n",
       "      <td>No Problem</td>\n",
       "      <td>83.1</td>\n",
       "    </tr>\n",
       "    <tr>\n",
       "      <th>1</th>\n",
       "      <td>BOT</td>\n",
       "      <td>Valtteri Bottas</td>\n",
       "      <td>2</td>\n",
       "      <td>NA</td>\n",
       "      <td>No Problem</td>\n",
       "      <td>83.7</td>\n",
       "    </tr>\n",
       "    <tr>\n",
       "      <th>3</th>\n",
       "      <td>VET</td>\n",
       "      <td>Sebastian Vettel</td>\n",
       "      <td>3</td>\n",
       "      <td>NA</td>\n",
       "      <td>No Problem</td>\n",
       "      <td>84.2</td>\n",
       "    </tr>\n",
       "    <tr>\n",
       "      <th>2</th>\n",
       "      <td>RAI</td>\n",
       "      <td>Kimi Räikkönen</td>\n",
       "      <td>4</td>\n",
       "      <td>NA</td>\n",
       "      <td>No Problem</td>\n",
       "      <td>84.0</td>\n",
       "    </tr>\n",
       "    <tr>\n",
       "      <th>6</th>\n",
       "      <td>VER</td>\n",
       "      <td>Max Verstappen</td>\n",
       "      <td>5</td>\n",
       "      <td>NA</td>\n",
       "      <td>No Problem</td>\n",
       "      <td>84.6</td>\n",
       "    </tr>\n",
       "    <tr>\n",
       "      <th>5</th>\n",
       "      <td>GAS</td>\n",
       "      <td>Pierre Gasly</td>\n",
       "      <td>6</td>\n",
       "      <td>NA</td>\n",
       "      <td>No Problem</td>\n",
       "      <td>85.6</td>\n",
       "    </tr>\n",
       "    <tr>\n",
       "      <th>8</th>\n",
       "      <td>MAG</td>\n",
       "      <td>Kevin Magnussen</td>\n",
       "      <td>7</td>\n",
       "      <td>NA</td>\n",
       "      <td>No Problem</td>\n",
       "      <td>86.1</td>\n",
       "    </tr>\n",
       "    <tr>\n",
       "      <th>4</th>\n",
       "      <td>SAI</td>\n",
       "      <td>Carlos Sainz</td>\n",
       "      <td>8</td>\n",
       "      <td>NA</td>\n",
       "      <td>No Problem</td>\n",
       "      <td>86.4</td>\n",
       "    </tr>\n",
       "    <tr>\n",
       "      <th>7</th>\n",
       "      <td>HAR</td>\n",
       "      <td>Brendon Hartley</td>\n",
       "      <td>9</td>\n",
       "      <td>NA</td>\n",
       "      <td>No Problem</td>\n",
       "      <td>86.5</td>\n",
       "    </tr>\n",
       "    <tr>\n",
       "      <th>12</th>\n",
       "      <td>HUL</td>\n",
       "      <td>Nico Hülkenberg</td>\n",
       "      <td>10</td>\n",
       "      <td>NA</td>\n",
       "      <td>No Problem</td>\n",
       "      <td>86.7</td>\n",
       "    </tr>\n",
       "    <tr>\n",
       "      <th>10</th>\n",
       "      <td>ALO</td>\n",
       "      <td>Fernando Alonso</td>\n",
       "      <td>11</td>\n",
       "      <td>NA</td>\n",
       "      <td>No Problem</td>\n",
       "      <td>87.3</td>\n",
       "    </tr>\n",
       "    <tr>\n",
       "      <th>9</th>\n",
       "      <td>GRO</td>\n",
       "      <td>Romain Grosjean</td>\n",
       "      <td>12</td>\n",
       "      <td>NA</td>\n",
       "      <td>No Problem</td>\n",
       "      <td>87.4</td>\n",
       "    </tr>\n",
       "    <tr>\n",
       "      <th>15</th>\n",
       "      <td>VAN</td>\n",
       "      <td>Stoffel Vandoorne</td>\n",
       "      <td>13</td>\n",
       "      <td>NA</td>\n",
       "      <td>No Problem</td>\n",
       "      <td>87.5</td>\n",
       "    </tr>\n",
       "    <tr>\n",
       "      <th>17</th>\n",
       "      <td>OCO</td>\n",
       "      <td>Esteban Ocon</td>\n",
       "      <td>14</td>\n",
       "      <td>NA</td>\n",
       "      <td>No Problem</td>\n",
       "      <td>87.7</td>\n",
       "    </tr>\n",
       "    <tr>\n",
       "      <th>18</th>\n",
       "      <td>PER</td>\n",
       "      <td>Sergio Pérez</td>\n",
       "      <td>15</td>\n",
       "      <td>NA</td>\n",
       "      <td>No Problem</td>\n",
       "      <td>87.8</td>\n",
       "    </tr>\n",
       "    <tr>\n",
       "      <th>11</th>\n",
       "      <td>RIC</td>\n",
       "      <td>Daniel Ricciardo</td>\n",
       "      <td>16</td>\n",
       "      <td>NA</td>\n",
       "      <td>No Problem</td>\n",
       "      <td>87.6</td>\n",
       "    </tr>\n",
       "    <tr>\n",
       "      <th>19</th>\n",
       "      <td>SIR</td>\n",
       "      <td>Sergey Sirotkin</td>\n",
       "      <td>17</td>\n",
       "      <td>NA</td>\n",
       "      <td>No Problem</td>\n",
       "      <td>88.0</td>\n",
       "    </tr>\n",
       "    <tr>\n",
       "      <th>13</th>\n",
       "      <td>ERI</td>\n",
       "      <td>Marcus Ericsson</td>\n",
       "      <td>18</td>\n",
       "      <td>NA</td>\n",
       "      <td>No Problem</td>\n",
       "      <td>88.0</td>\n",
       "    </tr>\n",
       "    <tr>\n",
       "      <th>14</th>\n",
       "      <td>STR</td>\n",
       "      <td>Lance Stroll</td>\n",
       "      <td>19</td>\n",
       "      <td>NA</td>\n",
       "      <td>No Problem</td>\n",
       "      <td>88.0</td>\n",
       "    </tr>\n",
       "    <tr>\n",
       "      <th>16</th>\n",
       "      <td>LEC</td>\n",
       "      <td>Charles Leclerc</td>\n",
       "      <td>21</td>\n",
       "      <td>NA</td>\n",
       "      <td>Car Issues</td>\n",
       "      <td>0.0</td>\n",
       "    </tr>\n",
       "  </tbody>\n",
       "</table>\n",
       "</div>"
      ],
      "text/plain": [
       "   code             driver  position laps till pitting      status  laptime\n",
       "0   HAM     Lewis Hamilton         1                NA  No Problem     83.1\n",
       "1   BOT    Valtteri Bottas         2                NA  No Problem     83.7\n",
       "3   VET   Sebastian Vettel         3                NA  No Problem     84.2\n",
       "2   RAI     Kimi Räikkönen         4                NA  No Problem     84.0\n",
       "6   VER     Max Verstappen         5                NA  No Problem     84.6\n",
       "5   GAS       Pierre Gasly         6                NA  No Problem     85.6\n",
       "8   MAG    Kevin Magnussen         7                NA  No Problem     86.1\n",
       "4   SAI       Carlos Sainz         8                NA  No Problem     86.4\n",
       "7   HAR    Brendon Hartley         9                NA  No Problem     86.5\n",
       "12  HUL    Nico Hülkenberg        10                NA  No Problem     86.7\n",
       "10  ALO    Fernando Alonso        11                NA  No Problem     87.3\n",
       "9   GRO    Romain Grosjean        12                NA  No Problem     87.4\n",
       "15  VAN  Stoffel Vandoorne        13                NA  No Problem     87.5\n",
       "17  OCO       Esteban Ocon        14                NA  No Problem     87.7\n",
       "18  PER       Sergio Pérez        15                NA  No Problem     87.8\n",
       "11  RIC   Daniel Ricciardo        16                NA  No Problem     87.6\n",
       "19  SIR    Sergey Sirotkin        17                NA  No Problem     88.0\n",
       "13  ERI    Marcus Ericsson        18                NA  No Problem     88.0\n",
       "14  STR       Lance Stroll        19                NA  No Problem     88.0\n",
       "16  LEC    Charles Leclerc        21                NA  Car Issues      0.0"
      ]
     },
     "execution_count": 24,
     "metadata": {},
     "output_type": "execute_result"
    }
   ],
   "source": [
    "# Display the test result\n",
    "df"
   ]
  },
  {
   "cell_type": "code",
   "execution_count": 25,
   "metadata": {
    "colab": {
     "base_uri": "https://localhost:8080/"
    },
    "executionInfo": {
     "elapsed": 855,
     "status": "ok",
     "timestamp": 1619069007295,
     "user": {
      "displayName": "Jared Chan",
      "photoUrl": "",
      "userId": "15404677321579359479"
     },
     "user_tz": 420
    },
    "id": "xt8YILlsz51P",
    "outputId": "bbc5bea0-65bb-4bdd-ada7-ac614fdb17f4"
   },
   "outputs": [
    {
     "data": {
      "text/plain": [
       "torch.Size([4051])"
      ]
     },
     "execution_count": 25,
     "metadata": {},
     "output_type": "execute_result"
    }
   ],
   "source": [
    "# Check the size of the input vector\n",
    "ds[0][0].shape"
   ]
  },
  {
   "cell_type": "code",
   "execution_count": 26,
   "metadata": {
    "id": "lhZL2nNNFSEY"
   },
   "outputs": [],
   "source": [
    "try:\n",
    "    # if I did `round = ...`, this will delete it\n",
    "    del round\n",
    "except NameError:\n",
    "    # no user-defined `round` to delete\n",
    "    pass"
   ]
  },
  {
   "cell_type": "code",
   "execution_count": 27,
   "metadata": {
    "id": "1FGtkele-99B"
   },
   "outputs": [],
   "source": [
    "# Returns a tensor with the size of in but content of out\n",
    "def out_to_in(in_, out_, random=False, num_of_laps=50):\n",
    "    _ret = in_.detach().clone().numpy().reshape(-1)\n",
    "    _o   = out_.detach().clone().numpy().reshape(-1)\n",
    "    j = 0\n",
    "\n",
    "    for i in range(0, 20):\n",
    "      _ret[131 + i*196 + 135: i*196 + 131 + 195] = _o[j*60: (j+1) * 60]\n",
    "      # pred_norm_pit = _o[j*60 + 21] # the 22nd float in the 60`\n",
    "      if (round(_o[j*60 + 21] * num_of_laps) <= 1):\n",
    "        _ret[131 + i*196 + 130 + 26] = 1\n",
    "      else:\n",
    "        _ret[131 + i*196 + 130 + 26] = 0\n",
    "      if (random):\n",
    "        _ret[131 + i*196 + 195] = np.random.uniform(0, 20)\n",
    "        \n",
    "    j += 1\n",
    "\n",
    "    return torch.from_numpy(_ret).float()"
   ]
  },
  {
   "cell_type": "code",
   "execution_count": 28,
   "metadata": {
    "id": "RdeR1cFt0jP_"
   },
   "outputs": [],
   "source": [
    "# Perform the out to in switch\n",
    "outfromin = out_to_in(ds[0][0], ds[0][1])"
   ]
  },
  {
   "cell_type": "code",
   "execution_count": 29,
   "metadata": {
    "id": "ORxgTppW0or3"
   },
   "outputs": [
    {
     "name": "stdout",
     "output_type": "stream",
     "text": [
      "tensor([0., 0., 0.,  ..., 0., 0., 0.])\n"
     ]
    }
   ],
   "source": [
    "# Check the new tensor look\n",
    "print(outfromin)"
   ]
  },
  {
   "cell_type": "code",
   "execution_count": 30,
   "metadata": {
    "id": "c4Yi_OqL0u1H"
   },
   "outputs": [],
   "source": [
    "# Generate the next lap status\n",
    "_, _, _, df2 = pos_df(outfromin, ds[0][1])\n"
   ]
  },
  {
   "cell_type": "code",
   "execution_count": 31,
   "metadata": {
    "colab": {
     "base_uri": "https://localhost:8080/",
     "height": 669
    },
    "executionInfo": {
     "elapsed": 425,
     "status": "ok",
     "timestamp": 1619069850667,
     "user": {
      "displayName": "Jared Chan",
      "photoUrl": "",
      "userId": "15404677321579359479"
     },
     "user_tz": 420
    },
    "id": "GmwcvM-E03rG",
    "outputId": "ddda3b3d-39f7-420c-df5d-028ef2313e3f"
   },
   "outputs": [
    {
     "data": {
      "text/html": [
       "<div>\n",
       "<style scoped>\n",
       "    .dataframe tbody tr th:only-of-type {\n",
       "        vertical-align: middle;\n",
       "    }\n",
       "\n",
       "    .dataframe tbody tr th {\n",
       "        vertical-align: top;\n",
       "    }\n",
       "\n",
       "    .dataframe thead th {\n",
       "        text-align: right;\n",
       "    }\n",
       "</style>\n",
       "<table border=\"1\" class=\"dataframe\">\n",
       "  <thead>\n",
       "    <tr style=\"text-align: right;\">\n",
       "      <th></th>\n",
       "      <th>code</th>\n",
       "      <th>driver</th>\n",
       "      <th>position</th>\n",
       "      <th>laps till pitting</th>\n",
       "      <th>status</th>\n",
       "      <th>laptime</th>\n",
       "    </tr>\n",
       "  </thead>\n",
       "  <tbody>\n",
       "    <tr>\n",
       "      <th>0</th>\n",
       "      <td>HAM</td>\n",
       "      <td>Lewis Hamilton</td>\n",
       "      <td>1</td>\n",
       "      <td>NA</td>\n",
       "      <td>No Problem</td>\n",
       "      <td>86.7</td>\n",
       "    </tr>\n",
       "    <tr>\n",
       "      <th>1</th>\n",
       "      <td>BOT</td>\n",
       "      <td>Valtteri Bottas</td>\n",
       "      <td>2</td>\n",
       "      <td>NA</td>\n",
       "      <td>No Problem</td>\n",
       "      <td>87.7</td>\n",
       "    </tr>\n",
       "    <tr>\n",
       "      <th>3</th>\n",
       "      <td>VET</td>\n",
       "      <td>Sebastian Vettel</td>\n",
       "      <td>3</td>\n",
       "      <td>NA</td>\n",
       "      <td>No Problem</td>\n",
       "      <td>88.7</td>\n",
       "    </tr>\n",
       "    <tr>\n",
       "      <th>2</th>\n",
       "      <td>RAI</td>\n",
       "      <td>Kimi Räikkönen</td>\n",
       "      <td>4</td>\n",
       "      <td>NA</td>\n",
       "      <td>No Problem</td>\n",
       "      <td>89.7</td>\n",
       "    </tr>\n",
       "    <tr>\n",
       "      <th>6</th>\n",
       "      <td>VER</td>\n",
       "      <td>Max Verstappen</td>\n",
       "      <td>5</td>\n",
       "      <td>NA</td>\n",
       "      <td>No Problem</td>\n",
       "      <td>90.8</td>\n",
       "    </tr>\n",
       "    <tr>\n",
       "      <th>5</th>\n",
       "      <td>GAS</td>\n",
       "      <td>Pierre Gasly</td>\n",
       "      <td>6</td>\n",
       "      <td>NA</td>\n",
       "      <td>No Problem</td>\n",
       "      <td>91.7</td>\n",
       "    </tr>\n",
       "    <tr>\n",
       "      <th>8</th>\n",
       "      <td>MAG</td>\n",
       "      <td>Kevin Magnussen</td>\n",
       "      <td>7</td>\n",
       "      <td>NA</td>\n",
       "      <td>No Problem</td>\n",
       "      <td>92.4</td>\n",
       "    </tr>\n",
       "    <tr>\n",
       "      <th>4</th>\n",
       "      <td>SAI</td>\n",
       "      <td>Carlos Sainz</td>\n",
       "      <td>8</td>\n",
       "      <td>NA</td>\n",
       "      <td>No Problem</td>\n",
       "      <td>93.3</td>\n",
       "    </tr>\n",
       "    <tr>\n",
       "      <th>7</th>\n",
       "      <td>HAR</td>\n",
       "      <td>Brendon Hartley</td>\n",
       "      <td>9</td>\n",
       "      <td>NA</td>\n",
       "      <td>No Problem</td>\n",
       "      <td>94.1</td>\n",
       "    </tr>\n",
       "    <tr>\n",
       "      <th>12</th>\n",
       "      <td>HUL</td>\n",
       "      <td>Nico Hülkenberg</td>\n",
       "      <td>10</td>\n",
       "      <td>NA</td>\n",
       "      <td>No Problem</td>\n",
       "      <td>94.6</td>\n",
       "    </tr>\n",
       "    <tr>\n",
       "      <th>10</th>\n",
       "      <td>ALO</td>\n",
       "      <td>Fernando Alonso</td>\n",
       "      <td>11</td>\n",
       "      <td>NA</td>\n",
       "      <td>No Problem</td>\n",
       "      <td>95.4</td>\n",
       "    </tr>\n",
       "    <tr>\n",
       "      <th>9</th>\n",
       "      <td>GRO</td>\n",
       "      <td>Romain Grosjean</td>\n",
       "      <td>12</td>\n",
       "      <td>NA</td>\n",
       "      <td>No Problem</td>\n",
       "      <td>95.9</td>\n",
       "    </tr>\n",
       "    <tr>\n",
       "      <th>15</th>\n",
       "      <td>VAN</td>\n",
       "      <td>Stoffel Vandoorne</td>\n",
       "      <td>13</td>\n",
       "      <td>NA</td>\n",
       "      <td>No Problem</td>\n",
       "      <td>96.5</td>\n",
       "    </tr>\n",
       "    <tr>\n",
       "      <th>17</th>\n",
       "      <td>OCO</td>\n",
       "      <td>Esteban Ocon</td>\n",
       "      <td>14</td>\n",
       "      <td>NA</td>\n",
       "      <td>No Problem</td>\n",
       "      <td>97.1</td>\n",
       "    </tr>\n",
       "    <tr>\n",
       "      <th>18</th>\n",
       "      <td>PER</td>\n",
       "      <td>Sergio Pérez</td>\n",
       "      <td>15</td>\n",
       "      <td>NA</td>\n",
       "      <td>No Problem</td>\n",
       "      <td>97.6</td>\n",
       "    </tr>\n",
       "    <tr>\n",
       "      <th>11</th>\n",
       "      <td>RIC</td>\n",
       "      <td>Daniel Ricciardo</td>\n",
       "      <td>16</td>\n",
       "      <td>NA</td>\n",
       "      <td>No Problem</td>\n",
       "      <td>98.1</td>\n",
       "    </tr>\n",
       "    <tr>\n",
       "      <th>19</th>\n",
       "      <td>SIR</td>\n",
       "      <td>Sergey Sirotkin</td>\n",
       "      <td>17</td>\n",
       "      <td>NA</td>\n",
       "      <td>No Problem</td>\n",
       "      <td>98.6</td>\n",
       "    </tr>\n",
       "    <tr>\n",
       "      <th>13</th>\n",
       "      <td>ERI</td>\n",
       "      <td>Marcus Ericsson</td>\n",
       "      <td>18</td>\n",
       "      <td>NA</td>\n",
       "      <td>No Problem</td>\n",
       "      <td>99.1</td>\n",
       "    </tr>\n",
       "    <tr>\n",
       "      <th>14</th>\n",
       "      <td>STR</td>\n",
       "      <td>Lance Stroll</td>\n",
       "      <td>19</td>\n",
       "      <td>NA</td>\n",
       "      <td>No Problem</td>\n",
       "      <td>100.2</td>\n",
       "    </tr>\n",
       "    <tr>\n",
       "      <th>16</th>\n",
       "      <td>LEC</td>\n",
       "      <td>Charles Leclerc</td>\n",
       "      <td>21</td>\n",
       "      <td>NA</td>\n",
       "      <td>Car Issues</td>\n",
       "      <td>0.0</td>\n",
       "    </tr>\n",
       "  </tbody>\n",
       "</table>\n",
       "</div>"
      ],
      "text/plain": [
       "   code             driver  position laps till pitting      status  laptime\n",
       "0   HAM     Lewis Hamilton         1                NA  No Problem     86.7\n",
       "1   BOT    Valtteri Bottas         2                NA  No Problem     87.7\n",
       "3   VET   Sebastian Vettel         3                NA  No Problem     88.7\n",
       "2   RAI     Kimi Räikkönen         4                NA  No Problem     89.7\n",
       "6   VER     Max Verstappen         5                NA  No Problem     90.8\n",
       "5   GAS       Pierre Gasly         6                NA  No Problem     91.7\n",
       "8   MAG    Kevin Magnussen         7                NA  No Problem     92.4\n",
       "4   SAI       Carlos Sainz         8                NA  No Problem     93.3\n",
       "7   HAR    Brendon Hartley         9                NA  No Problem     94.1\n",
       "12  HUL    Nico Hülkenberg        10                NA  No Problem     94.6\n",
       "10  ALO    Fernando Alonso        11                NA  No Problem     95.4\n",
       "9   GRO    Romain Grosjean        12                NA  No Problem     95.9\n",
       "15  VAN  Stoffel Vandoorne        13                NA  No Problem     96.5\n",
       "17  OCO       Esteban Ocon        14                NA  No Problem     97.1\n",
       "18  PER       Sergio Pérez        15                NA  No Problem     97.6\n",
       "11  RIC   Daniel Ricciardo        16                NA  No Problem     98.1\n",
       "19  SIR    Sergey Sirotkin        17                NA  No Problem     98.6\n",
       "13  ERI    Marcus Ericsson        18                NA  No Problem     99.1\n",
       "14  STR       Lance Stroll        19                NA  No Problem    100.2\n",
       "16  LEC    Charles Leclerc        21                NA  Car Issues      0.0"
      ]
     },
     "execution_count": 31,
     "metadata": {},
     "output_type": "execute_result"
    }
   ],
   "source": [
    "# Display the test result\n",
    "df2"
   ]
  },
  {
   "cell_type": "markdown",
   "metadata": {
    "id": "WI5rAzdMuQT5"
   },
   "source": [
    "## Model"
   ]
  },
  {
   "cell_type": "code",
   "execution_count": 32,
   "metadata": {
    "id": "h_u89xsTtUw3"
   },
   "outputs": [],
   "source": [
    "class RacePredictionModel(nn.Module):\n",
    "    def __init__(self, input_size, output_size, lstm_hiddens, lstm_layers, dropout):\n",
    "        # In our test : 4051         1200          1200           2         0.2\n",
    "        # Call the parent class constructor\n",
    "        # - this is required to properly initialize the module\n",
    "        # - it also allows us to use the `self` keyword to access module methods/attributes\n",
    "        # - this is a standard pattern for all PyTorch modules\n",
    "        super(RacePredictionModel, self).__init__()\n",
    "\n",
    "        # Store configuration parameters\n",
    "        self.input_size = input_size        # dimensionality of each input vector\n",
    "        self.lstm_layers = lstm_layers      # number of stacked LSTM layers\n",
    "        self.lstm_hiddens = lstm_hiddens          # hidden state size of each LSTM layer\n",
    "\n",
    "        # Define the LSTM module\n",
    "        # - input_size: number of features in the input at each time step = Number of positions in the input line\n",
    "        # - output_size: number of features in the output at each time step = Number of positions in the output line\n",
    "        # - lstm_hiddens: size of the hidden state in the LSTM - each layer has 1 200 hidden units, so all of your hidden‐ and cell‐state tensors are shaped\n",
    "        # - lstm_layers: number of stacked LSTM layers - two stacked LSTMs is a common default for sequence-to-sequence or time-series tasks\n",
    "        # - dropout: probability of randomly (20% here) zeroing outputs to force the model to not rely too heavily on any single hidden‐unit or pattern in layer-1\n",
    "        # - batch_first=True: input/output tensors shaped as (batch, seq, feature)\n",
    "        self.lstm = nn.LSTM(\n",
    "            input_size=input_size,\n",
    "            hidden_size=lstm_hiddens,\n",
    "            num_layers=lstm_layers,\n",
    "            dropout=dropout,\n",
    "            batch_first=True\n",
    "        )\n",
    "\n",
    "        # Define a fully-connected layer to map from LSTM hidden state to output vector\n",
    "        # - takes the LSTM hidden dimension and produces the desired output_size\n",
    "        self.fc = nn.Linear(lstm_hiddens, output_size)\n",
    "\n",
    "        # Initialize the FC layer weights with Xavier (Glorot) uniform initialization\n",
    "        #   This initialization scheme keeps the scale of activations and gradients roughly \n",
    "        #   the same across layers when you start training, which helps with convergence and \n",
    "        #   avoids vanishing/exploding signals in deep networks.\n",
    "        nn.init.xavier_uniform_(self.fc.weight.data)\n",
    "\n",
    "        # Initialize LSTM parameters:\n",
    "        # - weight matrices with Xavier uniform\n",
    "        # - bias terms to zero\n",
    "        for name, params in self.lstm.named_parameters():\n",
    "            if name[:6] == 'weight':\n",
    "                nn.init.xavier_uniform_(params)\n",
    "            elif name[:4] == 'bias':\n",
    "                nn.init.constant_(params, 0.0)\n",
    "\n",
    "    def zero_states(self, batchsize=1):\n",
    "        # Create zero-initialized hidden and cell states for the LSTM.\n",
    "        # - batchsize: the number of parallel sequences to process in batch.\n",
    "        # Returns a tuple (hidden_state, cell_state) each of shape\n",
    "        # (num_layers, batchsize, lstm_hiddens).\n",
    "        hidden_state = torch.zeros(self.lstm_layers, batchsize, self.lstm_hiddens)\n",
    "        cell_state = torch.zeros(self.lstm_layers, batchsize, self.lstm_hiddens)\n",
    "        return (hidden_state, cell_state)\n",
    "\n",
    "    def forward(self, ins, prev_states=None):\n",
    "        # Forward pass through the model.\n",
    "        # - ins: input tensor of shape (batchsize, seq_len, input_size)\n",
    "        # - prev_states: optional tuple of (hidden_state, cell_state) from a previous pass\n",
    "        # Returns:\n",
    "        #   - outs: output tensor of shape (batchsize, seq_len, output_size)\n",
    "        #   - next_states: tuple (hidden_state, cell_state) after processing `ins`\n",
    "\n",
    "        # Pass the input sequence through the LSTM\n",
    "        lstm_outs, next_states = self.lstm(ins, prev_states)\n",
    "        # Apply the fully-connected layer to each time step's output\n",
    "        outs = self.fc(lstm_outs)\n",
    "        return outs, next_states"
   ]
  },
  {
   "cell_type": "markdown",
   "metadata": {
    "id": "5QaDtXQhz9mQ"
   },
   "source": [
    "### Helper functions for training #1"
   ]
  },
  {
   "cell_type": "code",
   "execution_count": 33,
   "metadata": {},
   "outputs": [],
   "source": [
    "# cuDNN optimisations activation\n",
    "cudnn.benchmark = True"
   ]
  },
  {
   "cell_type": "code",
   "execution_count": 34,
   "metadata": {},
   "outputs": [
    {
     "name": "stdout",
     "output_type": "stream",
     "text": [
      "Using device: cuda\n"
     ]
    }
   ],
   "source": [
    "# Device selection\n",
    "# Check if CUDA is available and set the device accordingly\n",
    "device = torch.device(\"cuda\" if torch.cuda.is_available() else \"cpu\")\n",
    "print(f\"Using device: {device}\")\n",
    "\n",
    "# Snapshot folder\n",
    "sd_dir = Path(r\"E:\\Dropbox\\Informatique\\Holberton\\F1_Project\\sd\")\n",
    "sd_dir.mkdir(parents=True, exist_ok=True)"
   ]
  },
  {
   "cell_type": "code",
   "execution_count": null,
   "metadata": {
    "id": "F61iY-lGtUtw"
   },
   "outputs": [],
   "source": [
    "\n",
    "# Trains model on data from 2001 to 2024, 2024 is reserved for testing\n",
    "# Method 1\n",
    "# Training procedure:\n",
    "#   for each race:\n",
    "#     set zero states,\n",
    "#     for each lap:\n",
    "#       feed input from dataset,\n",
    "#       calculate loss from output,\n",
    "#       back propagate,\n",
    "\n",
    "# Trains model on data from 2001 to 2019, 2024 is reserved for testing\n",
    "# Method 1: truncated back-propagation through time with state detachment\n",
    "\n",
    "# Model initialization:\n",
    "#   - Input features: 4051\n",
    "#   - Two LSTM layers with 1200 units each\n",
    "#   - Output features: 2\n",
    "#   - Dropout: 0.2\n",
    "model = RacePredictionModel(4051, 1200, 1200, 2, 0.2).to(device)\n",
    "\n",
    "# Mean Squared Error (MSE) loss module is a standard regression loss function\n",
    "crit  = nn.MSELoss().to(device)\n",
    "\n",
    "# Adam : default optimizer with learning rate 0.001\n",
    "# Learning rate scheduler: multiply LR by 0.2 every epoch ----------> Aggressive decay, makes sense for LSTM\n",
    "opt   = optim.Adam(model.parameters(), lr=0.001)\n",
    "\n",
    "#   - step_size: number of epochs before decay\n",
    "#       - step_size=1: decay every epoch    \n",
    "#   - gamma: multiplicative factor for decay\n",
    "#       - gamma=0.2: decay factor (0.2 means 80% reduction)\n",
    "sched = optim.lr_scheduler.StepLR(opt, step_size=1, gamma=0.2)\n",
    "\n",
    "###\n",
    "### Training and updating functions ###\n",
    "###\n",
    "\n",
    "def run_train(model, ds, crit, opt, sched, device):\n",
    "    # Trains the model on available seasonal data (up to the year before 2024),\n",
    "    # and displays a progress bar per race.\n",
    "    model.train()\n",
    "    total_loss, count = 0.0, 0\n",
    "\n",
    "    # Build list of (year, round) tuples for all races prior to 2024\n",
    "    race_list = []\n",
    "    for y in ds.available_years:\n",
    "        # Stop when we reach 2024 (reserved for testing)\n",
    "        if y >= 2024:\n",
    "            break\n",
    "        ds.set_year(y)\n",
    "        # ds.cur_year a bien été mis à jour par set_year\n",
    "        for rnd in range(1, ds.cur_year + 1):\n",
    "            race_list.append((y, rnd))\n",
    "\n",
    "    # Iterate over each race with a progress bar\n",
    "    for (y, rnd) in tqdm(race_list, desc=\"Training epoch\", unit=\"race\"):\n",
    "        ds.set_year(y)\n",
    "        ds.set_round(rnd)\n",
    "\n",
    "        # DataLoader for this race, batch_size=1 (one lap at a time), no multiprocessing on Windows\n",
    "        race_loader = DataLoader(\n",
    "            ds,\n",
    "            batch_size=1,\n",
    "            shuffle=False,\n",
    "            num_workers=0,\n",
    "            pin_memory=(device.type == 'cuda')\n",
    "        )\n",
    "\n",
    "        # Initialize hidden and cell states for the LSTM\n",
    "        h0, c0 = model.zero_states()\n",
    "        st = (h0.to(device), c0.to(device))\n",
    "\n",
    "        # Loop over each lap in the race\n",
    "        for inp_batch, exp_batch in race_loader:\n",
    "            # Prepare input and target tensors: add sequence dimension and cast to float\n",
    "            x = inp_batch.unsqueeze(1).float().to(device, non_blocking=True)\n",
    "            y = exp_batch.unsqueeze(1).float().to(device, non_blocking=True)\n",
    "\n",
    "            # Zero gradients from previous iteration\n",
    "            opt.zero_grad()\n",
    "            # Forward pass through model, updating hidden states\n",
    "            out, st = model(x, st)\n",
    "            # Compute loss\n",
    "            loss = crit(out, y)\n",
    "            # Backpropagate gradients\n",
    "            loss.backward()\n",
    "            # Update model parameters\n",
    "            opt.step()\n",
    "\n",
    "            # Detach hidden states to truncate backprop through time (BPTT)\n",
    "            st = (st[0].detach(), st[1].detach())\n",
    "\n",
    "            # Accumulate loss for reporting\n",
    "            total_loss += loss.item()\n",
    "            count += 1\n",
    "\n",
    "    # Step the LR scheduler after processing all races in this epoch\n",
    "    sched.step()\n",
    "\n",
    "    # Return average loss per lap\n",
    "    return total_loss / count if count > 0 else float('nan')\n",
    "\n",
    "\n",
    "def run_test(model, ds, crit, device):\n",
    "    # Set model to evaluation mode (disables dropout, etc.)\n",
    "    model.eval()\n",
    "    total, count = 0, 0\n",
    "\n",
    "    # Choose test year: first available year >= 2024, otherwise fallback to latest year\n",
    "    test_years = [y for y in ds.available_years if y >= 2024]\n",
    "    if test_years:\n",
    "        year0 = test_years[0]\n",
    "    else:\n",
    "        year0 = ds.available_years[-1]   # fallback\n",
    "    ds.set_year(year0)\n",
    "    ds.set_round(1) # tests start from first round\n",
    "\n",
    "    # DataLoader for testing single race sequentially (no batching across races)\n",
    "    race_loader = DataLoader(\n",
    "        ds,\n",
    "        batch_size=1,\n",
    "        shuffle=False,\n",
    "        num_workers=0,\n",
    "        pin_memory=(device.type == 'cuda')\n",
    "    )\n",
    "     # Initialize hidden states\n",
    "    hs, cs = model.zero_states()\n",
    "    st = (hs.to(device), cs.to(device))\n",
    "\n",
    "    # Disable gradient computation for efficiency\n",
    "    with torch.no_grad():\n",
    "        for inp_batch, exp_batch in race_loader:\n",
    "            # Prepare tensors\n",
    "            x = inp_batch.unsqueeze(1).float().to(device, non_blocking=True)\n",
    "            y = exp_batch.unsqueeze(1).float().to(device, non_blocking=True)\n",
    "            # Forward pass\n",
    "            out, st = model(x, st)\n",
    "            # Accumulate test loss\n",
    "            total += crit(out, y).item()\n",
    "            count += 1\n",
    "\n",
    "    # Return average test loss per lap\n",
    "    return total / count if count > 0 else float('nan')\n",
    "\n",
    "\n",
    "\n",
    "def run_all(model, ds, crit, opt, sched, device, epochs=1):    # epochs=10\n",
    "    # Loop over number of epochs specified\n",
    "    for epoch in range(epochs):\n",
    "        print(f\"Epoch {epoch}\")\n",
    "        # Training phase\n",
    "        tr_loss = run_train(model, ds, crit, opt, sched, device)\n",
    "        # Testing phase\n",
    "        te_loss = run_test(model, ds, crit, device)\n",
    "        # Report metrics\n",
    "        print(f\"Epoch {epoch} — Train Loss: {tr_loss:.4f} | Test Loss: {te_loss:.2f}\")\n",
    "\n",
    "        # Save checkpoint every 5 epochs\n",
    "        if epoch % 5 == 0:\n",
    "            ckpt = sd_dir / f\"checkpoint-epoch{epoch}-loss{te_loss:.2f}.pth\"\n",
    "            torch.save(model.state_dict(), ckpt)\n",
    "\n",
    "     # Save final model after last epoch\n",
    "    final_path = sd_dir / f\"final-epoch{epochs-1}-loss{te_loss:.2f}.pth\"\n",
    "    torch.save(model.state_dict(), final_path)\n",
    "\n"
   ]
  },
  {
   "cell_type": "markdown",
   "metadata": {
    "id": "cZtLZfkF0JKq"
   },
   "source": [
    "### Training"
   ]
  },
  {
   "cell_type": "code",
   "execution_count": 36,
   "metadata": {
    "id": "W8_HMW8a78LE",
    "scrolled": true
   },
   "outputs": [
    {
     "name": "stdout",
     "output_type": "stream",
     "text": [
      "Using device: cuda\n",
      "Epoch 0\n"
     ]
    },
    {
     "data": {
      "application/vnd.jupyter.widget-view+json": {
       "model_id": "46efbca330be4dd984a220834c3bae87",
       "version_major": 2,
       "version_minor": 0
      },
      "text/plain": [
       "Training epoch:   0%|          | 0/42 [00:00<?, ?race/s]"
      ]
     },
     "metadata": {},
     "output_type": "display_data"
    },
    {
     "name": "stdout",
     "output_type": "stream",
     "text": [
      "Epoch 0 — Train Loss: 0.0546 | Test Loss: 0.10\n"
     ]
    }
   ],
   "source": [
    "# pick GPU if available, else CPU\n",
    "device = torch.device(\"cuda\" if torch.cuda.is_available() else \"cpu\")\n",
    "print(f\"Using device: {device}\")\n",
    "model.to(device)\n",
    "\n",
    "epochs = 1\n",
    "run_all(model, ds, crit, opt, sched, device, epochs)"
   ]
  },
  {
   "cell_type": "code",
   "execution_count": 37,
   "metadata": {
    "colab": {
     "base_uri": "https://localhost:8080/"
    },
    "executionInfo": {
     "elapsed": 450,
     "status": "ok",
     "timestamp": 1618983708501,
     "user": {
      "displayName": "Jared Chan",
      "photoUrl": "",
      "userId": "15404677321579359479"
     },
     "user_tz": 420
    },
    "id": "ra9WSMlWz97Y",
    "outputId": "5bc86b62-17a0-40ee-e893-f26ab0596edf"
   },
   "outputs": [
    {
     "data": {
      "text/plain": [
       "0.10251132524769072"
      ]
     },
     "execution_count": 37,
     "metadata": {},
     "output_type": "execute_result"
    }
   ],
   "source": [
    "run_test(model, ds, crit, device)\n"
   ]
  },
  {
   "cell_type": "code",
   "execution_count": null,
   "metadata": {
    "id": "3uKbUBAOdIpW"
   },
   "outputs": [
    {
     "name": "stdout",
     "output_type": "stream",
     "text": [
      "🔄 Chargement du checkpoint : final-epoch0-loss0.10.pth\n",
      "tensor([0.9014, 0.0232, 0.1339,  ..., 0.0722, 0.1817, 0.0025], device='cuda:0',\n",
      "       grad_fn=<SqueezeBackward0>)\n",
      "   code              driver  position  laps till pitting      status  laptime\n",
      "0   HAM      Lewis Hamilton         1           0.024014  No Problem    101.5\n",
      "1   VER      Max Verstappen         2          -0.023678  No Problem    101.5\n",
      "2   BOT     Valtteri Bottas         3          -0.000930  No Problem    100.4\n",
      "19  LAT     Nicholas Latifi         4           0.002529  No Problem    101.8\n",
      "3   PER        Sergio Pérez         4          -0.001795  No Problem    101.2\n",
      "4   RIC    Daniel Ricciardo         5          -0.013361  No Problem    102.3\n",
      "5   SAI        Carlos Sainz         7           0.003256  No Problem    103.0\n",
      "9   LEC     Charles Leclerc         8           0.022530  No Problem    102.1\n",
      "12  RUS      George Russell         9          -0.024174  No Problem    103.0\n",
      "8   GAS        Pierre Gasly        10          -0.025098  No Problem    103.6\n",
      "7   NOR        Lando Norris        11           0.021469  No Problem    102.2\n",
      "6   OCO        Esteban Ocon        12           0.019673  No Problem    101.3\n",
      "16  GIO  Antonio Giovinazzi        13           0.001355  No Problem    103.6\n",
      "13  VET    Sebastian Vettel        14           0.022170  No Problem    104.2\n",
      "14  ALB     Alexander Albon        15          -0.034550  No Problem    103.9\n",
      "15  GRO     Romain Grosjean        16           0.050112  No Problem    104.3\n",
      "17  MAG     Kevin Magnussen        17          -0.007714  No Problem    103.9\n",
      "11  STR        Lance Stroll        17           0.024492  No Problem    100.0\n",
      "18  RAI      Kimi Räikkönen        19           0.016841  No Problem    105.6\n",
      "10  KVY        Daniil Kvyat        20           0.022690  No Problem    105.5\n"
     ]
    }
   ],
   "source": [
    "#cpu = torch.device('cpu')\n",
    "\n",
    "# Example of how the model was previously loaded from a specific checkpoint (commented out)\n",
    "# model.load_state_dict(torch.load('/content/drive/My Drive/f1ml/sd/47.1-5-loss-0.07.pth'))\n",
    "\n",
    "# Gather all files ending with .pth in the checkpoint directory\n",
    "ckpts = list(sd_dir.glob(\"*.pth\"))\n",
    "if not ckpts:\n",
    "    # If no checkpoints are found, raise an error with a descriptive message\n",
    "    raise FileNotFoundError(f\"Aucun checkpoint trouvé dans {sd_dir}\")\n",
    "\n",
    "# Sort the checkpoint files by their last modification time (oldest first)\n",
    "ckpts = sorted(ckpts, key=lambda p: p.stat().st_mtime)\n",
    "# Select the most recently modified checkpoint\n",
    "latest = ckpts[-1]\n",
    "print(f\"🔄 Chargement du checkpoint : {latest.name}\")\n",
    "\n",
    "# Load the model weights from the latest checkpoint.\n",
    "\n",
    "# If we're on CPU, ensure tensors are mapped to the correct device\n",
    "#model.load_state_dict(torch.load(latest, map_location=device))\n",
    "\n",
    "# Switch the model to evaluation mode to disable dropout, batchnorm updates, etc.\n",
    "model.eval()\n",
    "\n",
    "# Set dataset to use the 2024 season and the 10th round\n",
    "ds.set_year(2024)\n",
    "ds.set_round(10)\n",
    "\n",
    "# Retrieve the input features and expected output for the 10th lap\n",
    "p, n = ds[10]\n",
    "# Move input tensor to the computation device (CPU or GPU)\n",
    "p = p.to(device)\n",
    "\n",
    "# Initialize hidden and cell states for the model's LSTM layers\n",
    "hid_state, cell_state = model.zero_states()\n",
    "states = (hid_state.to(device), cell_state.to(device))\n",
    "\n",
    "# Perform a forward pass through the model:\n",
    "# - Unsqueeze twice to add batch and sequence dimensions\n",
    "# - Convert input to float\n",
    "out, s = model(p.unsqueeze(0).unsqueeze(0).float(), states)\n",
    "\n",
    "# Remove the added batch and sequence dimensions from the output\n",
    "out = out.squeeze().squeeze()\n",
    "print(out)\n",
    "\n",
    "# Optionally, convert predictions to a pandas DataFrame using CPU tensors\n",
    "# pos_df(p.to(cpu), out.to(cpu))\n",
    "name, loc, country, df = pos_df(p.cpu(), out.cpu())\n",
    "print(df)"
   ]
  },
  {
   "cell_type": "code",
   "execution_count": 39,
   "metadata": {
    "colab": {
     "base_uri": "https://localhost:8080/"
    },
    "executionInfo": {
     "elapsed": 3778,
     "status": "ok",
     "timestamp": 1619158188436,
     "user": {
      "displayName": "Jared Chan",
      "photoUrl": "",
      "userId": "15404677321579359479"
     },
     "user_tz": 420
    },
    "id": "19PcXu0dWQyL",
    "outputId": "afb0f181-b829-4fc7-caa1-09725e67afa7"
   },
   "outputs": [
    {
     "name": "stdout",
     "output_type": "stream",
     "text": [
      "🔄 Chargement du checkpoint : final-epoch0-loss0.10.pth\n"
     ]
    },
    {
     "data": {
      "text/plain": [
       "RacePredictionModel(\n",
       "  (lstm): LSTM(4051, 1200, num_layers=2, batch_first=True, dropout=0.2)\n",
       "  (fc): Linear(in_features=1200, out_features=1200, bias=True)\n",
       ")"
      ]
     },
     "execution_count": 39,
     "metadata": {},
     "output_type": "execute_result"
    }
   ],
   "source": [
    "# 1) List all the checkpoints .pth\n",
    "ckpts = list(sd_dir.glob(\"*.pth\"))\n",
    "if not ckpts:\n",
    "    raise FileNotFoundError(f\"Aucun fichier .pth trouvé dans {sd_dir}\")\n",
    "# 2) Choose the most recent one ordered by update date\n",
    "latest = max(ckpts, key=lambda p: p.stat().st_mtime)\n",
    "print(f\"🔄 Chargement du checkpoint : {latest.name}\")\n",
    "# 3) Load on CPU (or use `map_location=device` for GPU load)\n",
    "model.load_state_dict(torch.load(latest, map_location=\"cpu\"))\n",
    "model.to(\"cpu\")"
   ]
  },
  {
   "cell_type": "code",
   "execution_count": 40,
   "metadata": {
    "id": "qpFNdOGYWZhr"
   },
   "outputs": [],
   "source": [
    "#torch.save(model.state_dict(), (sd_dir / f'{versionId}-{epochs}-loss-{te_loss:.2f}.pth'))"
   ]
  },
  {
   "cell_type": "code",
   "execution_count": null,
   "metadata": {
    "colab": {
     "base_uri": "https://localhost:8080/",
     "height": 1000
    },
    "executionInfo": {
     "elapsed": 12048,
     "status": "ok",
     "timestamp": 1619135435239,
     "user": {
      "displayName": "Jared Chan",
      "photoUrl": "",
      "userId": "15404677321579359479"
     },
     "user_tz": 420
    },
    "id": "_Xu9NpH78ikT",
    "outputId": "ebe13942-cbf4-408d-dd6e-fb831d7e247d"
   },
   "outputs": [
    {
     "name": "stdout",
     "output_type": "stream",
     "text": [
      "Using device: cuda\n",
      "🔄 Chargement du checkpoint : final-epoch0-loss0.10.pth\n",
      "tensor([ 0.8216,  0.0575,  0.1221,  ...,  0.1209,  0.2131, -0.0087],\n",
      "       device='cuda:0', grad_fn=<SqueezeBackward0>)\n",
      "   code              driver  position  laps till pitting      status  laptime\n",
      "0   HAM      Lewis Hamilton         1           0.022969  No Problem    101.5\n",
      "1   BOT     Valtteri Bottas         2          -0.035418  No Problem    101.5\n",
      "2   VER      Max Verstappen         3          -0.020580  No Problem    100.7\n",
      "19  LAT     Nicholas Latifi         4           0.008332  No Problem    101.8\n",
      "4   PER        Sergio Pérez         5          -0.024003  No Problem    102.3\n",
      "3   LEC     Charles Leclerc         6           0.017454  No Problem    101.2\n",
      "5   ALB     Alexander Albon         7           0.026296  No Problem    103.5\n",
      "9   RIC    Daniel Ricciardo         8           0.049621  No Problem    102.1\n",
      "12  KVY        Daniil Kvyat         9          -0.004953  No Problem    103.0\n",
      "8   GAS        Pierre Gasly        10           0.000305  No Problem    103.6\n",
      "7   NOR        Lando Norris        11           0.008627  No Problem    102.2\n",
      "6   SAI        Carlos Sainz        12           0.026516  No Problem    101.3\n",
      "16  GIO  Antonio Giovinazzi        13           0.010640  No Problem    103.6\n",
      "13  RUS      George Russell        14           0.039029  No Problem    104.2\n",
      "14  VET    Sebastian Vettel        15          -0.006795  No Problem    103.9\n",
      "15  RAI      Kimi Räikkönen        16           0.061581  No Problem    104.3\n",
      "11  STR        Lance Stroll        17           0.055824  Car Issues    100.0\n",
      "17  GRO     Romain Grosjean        18          -0.005923  No Problem    103.9\n",
      "18  MAG     Kevin Magnussen        19           0.011610  No Problem    105.6\n",
      "10  OCO        Esteban Ocon        20           0.045202  No Problem    105.5\n",
      "→ batch_inputs → sortie shape: torch.Size([2, 1, 1200])\n",
      "→ batch_inputs → hidden shape: torch.Size([2, 2, 1200])\n",
      "Tour prédit 50 — Autódromo Internacional do Algarve (Portimão, Portugal)\n"
     ]
    },
    {
     "data": {
      "text/html": [
       "<div>\n",
       "<style scoped>\n",
       "    .dataframe tbody tr th:only-of-type {\n",
       "        vertical-align: middle;\n",
       "    }\n",
       "\n",
       "    .dataframe tbody tr th {\n",
       "        vertical-align: top;\n",
       "    }\n",
       "\n",
       "    .dataframe thead th {\n",
       "        text-align: right;\n",
       "    }\n",
       "</style>\n",
       "<table border=\"1\" class=\"dataframe\">\n",
       "  <thead>\n",
       "    <tr style=\"text-align: right;\">\n",
       "      <th></th>\n",
       "      <th>code</th>\n",
       "      <th>driver</th>\n",
       "      <th>position</th>\n",
       "      <th>laps till pitting</th>\n",
       "      <th>status</th>\n",
       "      <th>laptime</th>\n",
       "    </tr>\n",
       "  </thead>\n",
       "  <tbody>\n",
       "    <tr>\n",
       "      <th>0</th>\n",
       "      <td>HAM</td>\n",
       "      <td>Lewis Hamilton</td>\n",
       "      <td>1</td>\n",
       "      <td>1.534464</td>\n",
       "      <td>No Problem</td>\n",
       "      <td>101.5</td>\n",
       "    </tr>\n",
       "    <tr>\n",
       "      <th>1</th>\n",
       "      <td>BOT</td>\n",
       "      <td>Valtteri Bottas</td>\n",
       "      <td>2</td>\n",
       "      <td>-0.269804</td>\n",
       "      <td>No Problem</td>\n",
       "      <td>101.7</td>\n",
       "    </tr>\n",
       "    <tr>\n",
       "      <th>2</th>\n",
       "      <td>VER</td>\n",
       "      <td>Max Verstappen</td>\n",
       "      <td>3</td>\n",
       "      <td>-0.639818</td>\n",
       "      <td>No Problem</td>\n",
       "      <td>100.8</td>\n",
       "    </tr>\n",
       "    <tr>\n",
       "      <th>19</th>\n",
       "      <td>LAT</td>\n",
       "      <td>Nicholas Latifi</td>\n",
       "      <td>4</td>\n",
       "      <td>-2.655934</td>\n",
       "      <td>No Problem</td>\n",
       "      <td>101.0</td>\n",
       "    </tr>\n",
       "    <tr>\n",
       "      <th>4</th>\n",
       "      <td>PER</td>\n",
       "      <td>Sergio Pérez</td>\n",
       "      <td>5</td>\n",
       "      <td>-1.086303</td>\n",
       "      <td>No Problem</td>\n",
       "      <td>102.4</td>\n",
       "    </tr>\n",
       "    <tr>\n",
       "      <th>3</th>\n",
       "      <td>LEC</td>\n",
       "      <td>Charles Leclerc</td>\n",
       "      <td>6</td>\n",
       "      <td>-1.156822</td>\n",
       "      <td>No Problem</td>\n",
       "      <td>101.0</td>\n",
       "    </tr>\n",
       "    <tr>\n",
       "      <th>5</th>\n",
       "      <td>ALB</td>\n",
       "      <td>Alexander Albon</td>\n",
       "      <td>7</td>\n",
       "      <td>-3.414034</td>\n",
       "      <td>No Problem</td>\n",
       "      <td>103.1</td>\n",
       "    </tr>\n",
       "    <tr>\n",
       "      <th>9</th>\n",
       "      <td>RIC</td>\n",
       "      <td>Daniel Ricciardo</td>\n",
       "      <td>8</td>\n",
       "      <td>0.152531</td>\n",
       "      <td>No Problem</td>\n",
       "      <td>103.1</td>\n",
       "    </tr>\n",
       "    <tr>\n",
       "      <th>12</th>\n",
       "      <td>KVY</td>\n",
       "      <td>Daniil Kvyat</td>\n",
       "      <td>9</td>\n",
       "      <td>1.847972</td>\n",
       "      <td>No Problem</td>\n",
       "      <td>103.0</td>\n",
       "    </tr>\n",
       "    <tr>\n",
       "      <th>8</th>\n",
       "      <td>GAS</td>\n",
       "      <td>Pierre Gasly</td>\n",
       "      <td>10</td>\n",
       "      <td>-1.291542</td>\n",
       "      <td>No Problem</td>\n",
       "      <td>103.4</td>\n",
       "    </tr>\n",
       "    <tr>\n",
       "      <th>7</th>\n",
       "      <td>NOR</td>\n",
       "      <td>Lando Norris</td>\n",
       "      <td>11</td>\n",
       "      <td>3.409922</td>\n",
       "      <td>No Problem</td>\n",
       "      <td>102.1</td>\n",
       "    </tr>\n",
       "    <tr>\n",
       "      <th>6</th>\n",
       "      <td>SAI</td>\n",
       "      <td>Carlos Sainz</td>\n",
       "      <td>12</td>\n",
       "      <td>2.705246</td>\n",
       "      <td>No Problem</td>\n",
       "      <td>101.1</td>\n",
       "    </tr>\n",
       "    <tr>\n",
       "      <th>16</th>\n",
       "      <td>GIO</td>\n",
       "      <td>Antonio Giovinazzi</td>\n",
       "      <td>13</td>\n",
       "      <td>-0.033915</td>\n",
       "      <td>No Problem</td>\n",
       "      <td>103.4</td>\n",
       "    </tr>\n",
       "    <tr>\n",
       "      <th>13</th>\n",
       "      <td>RUS</td>\n",
       "      <td>George Russell</td>\n",
       "      <td>14</td>\n",
       "      <td>-0.067071</td>\n",
       "      <td>No Problem</td>\n",
       "      <td>104.2</td>\n",
       "    </tr>\n",
       "    <tr>\n",
       "      <th>14</th>\n",
       "      <td>VET</td>\n",
       "      <td>Sebastian Vettel</td>\n",
       "      <td>15</td>\n",
       "      <td>-2.199584</td>\n",
       "      <td>No Problem</td>\n",
       "      <td>103.9</td>\n",
       "    </tr>\n",
       "    <tr>\n",
       "      <th>15</th>\n",
       "      <td>RAI</td>\n",
       "      <td>Kimi Räikkönen</td>\n",
       "      <td>16</td>\n",
       "      <td>1.281662</td>\n",
       "      <td>No Problem</td>\n",
       "      <td>104.5</td>\n",
       "    </tr>\n",
       "    <tr>\n",
       "      <th>17</th>\n",
       "      <td>GRO</td>\n",
       "      <td>Romain Grosjean</td>\n",
       "      <td>17</td>\n",
       "      <td>-0.039798</td>\n",
       "      <td>No Problem</td>\n",
       "      <td>103.9</td>\n",
       "    </tr>\n",
       "    <tr>\n",
       "      <th>11</th>\n",
       "      <td>STR</td>\n",
       "      <td>Lance Stroll</td>\n",
       "      <td>17</td>\n",
       "      <td>1.775128</td>\n",
       "      <td>Car Issues</td>\n",
       "      <td>0.0</td>\n",
       "    </tr>\n",
       "    <tr>\n",
       "      <th>10</th>\n",
       "      <td>OCO</td>\n",
       "      <td>Esteban Ocon</td>\n",
       "      <td>18</td>\n",
       "      <td>-1.277031</td>\n",
       "      <td>No Problem</td>\n",
       "      <td>105.0</td>\n",
       "    </tr>\n",
       "    <tr>\n",
       "      <th>18</th>\n",
       "      <td>MAG</td>\n",
       "      <td>Kevin Magnussen</td>\n",
       "      <td>19</td>\n",
       "      <td>3.108622</td>\n",
       "      <td>No Problem</td>\n",
       "      <td>105.0</td>\n",
       "    </tr>\n",
       "  </tbody>\n",
       "</table>\n",
       "</div>"
      ],
      "text/plain": [
       "   code              driver  position  laps till pitting      status  laptime\n",
       "0   HAM      Lewis Hamilton         1           1.534464  No Problem    101.5\n",
       "1   BOT     Valtteri Bottas         2          -0.269804  No Problem    101.7\n",
       "2   VER      Max Verstappen         3          -0.639818  No Problem    100.8\n",
       "19  LAT     Nicholas Latifi         4          -2.655934  No Problem    101.0\n",
       "4   PER        Sergio Pérez         5          -1.086303  No Problem    102.4\n",
       "3   LEC     Charles Leclerc         6          -1.156822  No Problem    101.0\n",
       "5   ALB     Alexander Albon         7          -3.414034  No Problem    103.1\n",
       "9   RIC    Daniel Ricciardo         8           0.152531  No Problem    103.1\n",
       "12  KVY        Daniil Kvyat         9           1.847972  No Problem    103.0\n",
       "8   GAS        Pierre Gasly        10          -1.291542  No Problem    103.4\n",
       "7   NOR        Lando Norris        11           3.409922  No Problem    102.1\n",
       "6   SAI        Carlos Sainz        12           2.705246  No Problem    101.1\n",
       "16  GIO  Antonio Giovinazzi        13          -0.033915  No Problem    103.4\n",
       "13  RUS      George Russell        14          -0.067071  No Problem    104.2\n",
       "14  VET    Sebastian Vettel        15          -2.199584  No Problem    103.9\n",
       "15  RAI      Kimi Räikkönen        16           1.281662  No Problem    104.5\n",
       "17  GRO     Romain Grosjean        17          -0.039798  No Problem    103.9\n",
       "11  STR        Lance Stroll        17           1.775128  Car Issues      0.0\n",
       "10  OCO        Esteban Ocon        18          -1.277031  No Problem    105.0\n",
       "18  MAG     Kevin Magnussen        19           3.108622  No Problem    105.0"
      ]
     },
     "metadata": {},
     "output_type": "display_data"
    }
   ],
   "source": [
    "# pick GPU if available, else CPU\n",
    "device = torch.device(\"cuda\" if torch.cuda.is_available() else \"cpu\")\n",
    "print(f\"Using device: {device}\")\n",
    "model.to(device)\n",
    "\n",
    "# 1) List all the checkpoints .pth\n",
    "ckpts = list(sd_dir.glob(\"*.pth\"))\n",
    "if not ckpts:\n",
    "    raise FileNotFoundError(f\"Aucun checkpoint trouvé dans {sd_dir}\")\n",
    "# 2) Choose the most recent one ordered by update date\n",
    "latest = max(ckpts, key=lambda p: p.stat().st_mtime)\n",
    "print(f\"🔄 Chargement du checkpoint : {latest.name}\")\n",
    "# 3) Load on CPU (or use `map_location=device` for GPU load)\n",
    "model.load_state_dict(torch.load(latest, map_location=device))\n",
    "\n",
    "model.eval()\n",
    "# On se positionne sur la course n°30 de la saison 2024\n",
    "ds.set_year(2024)\n",
    "ds.set_round(12)\n",
    "\n",
    "# On récupère le premier tour \"p\" et la vérité n\n",
    "p, n = ds[0]\n",
    "p = p.to(device)\n",
    "\n",
    "hid_state, cell_state = model.zero_states()\n",
    "states = (hid_state.to(device), cell_state.to(device))\n",
    "out, s = model(p.unsqueeze(0).unsqueeze(0).float(), states)\n",
    "out = out.squeeze().squeeze()\n",
    "print(out)\n",
    "#pos_df(p.to(cpu), out.to(cpu))\n",
    "name, loc, country, df = pos_df(p.cpu(), out.cpu())\n",
    "print(df)\n",
    "\n",
    "# --- Démo d'un petit batch de 2 exemples (batch_inputs) ---\n",
    "\n",
    "batch_inputs = torch.cat([\n",
    "    ds[0][0].unsqueeze(0).unsqueeze(0),\n",
    "    ds[1][0].unsqueeze(0).unsqueeze(0)\n",
    "], dim=0)  # shape = [2, 1, 4051]\n",
    "\n",
    "# 1) Réinit hidden & cell POUR batch_inputs (batchsize=2)\n",
    "batch_size = batch_inputs.size(0)    # -> 2\n",
    "h0_b, c0_b = model.zero_states(batchsize=batch_size)\n",
    "states_b = (h0_b.to(device), c0_b.to(device))\n",
    "\n",
    "# 2) Passage avant sur batch_inputs\n",
    "o_batch, s_batch = model(batch_inputs.float().to(device), states_b)\n",
    "print(\"→ batch_inputs → sortie shape:\", o_batch.shape)\n",
    "print(\"→ batch_inputs → hidden shape:\", s_batch[0].shape)  # (num_layers, 2, hidden)\n",
    "\n",
    "# --- Maintenant on revient à un seul exemple pour p ---\n",
    "\n",
    "# 3) Réinit hidden & cell POUR p (batchsize=1)\n",
    "h0_p, c0_p = model.zero_states(batchsize=1)\n",
    "states_p = (h0_p.to(device), c0_p.to(device))\n",
    "\n",
    "# 4) Premier passage sur p\n",
    "out, states_p = model(p.unsqueeze(0).unsqueeze(0).float(), states_p)\n",
    "out = out.squeeze(0).squeeze(0)\n",
    "\n",
    "# 5) Boucle de prédiction sur 50 tours\n",
    "n_tours = 50\n",
    "num_of_laps = len(ds)\n",
    "for i in range(n_tours):\n",
    "    # Génération de l'entrée suivante à partir de la sortie\n",
    "    inp = out_to_in(\n",
    "        p.cpu(),\n",
    "        out.cpu(),\n",
    "        random=True,\n",
    "        num_of_laps=len(ds)\n",
    "    ).to(device)\n",
    "\n",
    "    # Passage avant\n",
    "    out, states = model(inp.unsqueeze(0).unsqueeze(0).float(), states)\n",
    "    out = out.squeeze(0).squeeze(0)\n",
    "\n",
    "    # Décodage en DataFrame\n",
    "    lap_in = inp  # plutôt que de réutiliser p\n",
    "    predicted_out = out\n",
    "\n",
    "    name, loc, country, df = pos_df(lap_in.cpu(), predicted_out.cpu(), num_of_laps)\n",
    "    # n’affiche que si on est au dernier tour\n",
    "    if i == n_tours - 1:\n",
    "        print(f\"Tour prédit {i+1} — {name} ({loc}, {country})\")\n",
    "        display(df)\n",
    "\n",
    "# Pour garder le dernier DataFrame\n",
    "df_final = df.copy()\n",
    "#display(df_final)\n"
   ]
  },
  {
   "cell_type": "code",
   "execution_count": 42,
   "metadata": {
    "colab": {
     "base_uri": "https://localhost:8080/"
    },
    "executionInfo": {
     "elapsed": 634,
     "status": "ok",
     "timestamp": 1618903913545,
     "user": {
      "displayName": "Jared Chan",
      "photoUrl": "",
      "userId": "15404677321579359479"
     },
     "user_tz": 420
    },
    "id": "6IxCHNc79aCV",
    "outputId": "9a73094d-b236-4c75-d1de-a12c47189469"
   },
   "outputs": [],
   "source": [
    "#pos_df(p.to(cpu), n.to(cpu))"
   ]
  },
  {
   "cell_type": "code",
   "execution_count": 43,
   "metadata": {
    "id": "EO2sEKuZnNgV"
   },
   "outputs": [],
   "source": [
    "c = torch.cat((ds[0][0].unsqueeze(0).unsqueeze(0), ds[1][0].unsqueeze(0).unsqueeze(0)), 0)"
   ]
  },
  {
   "cell_type": "code",
   "execution_count": 44,
   "metadata": {
    "colab": {
     "base_uri": "https://localhost:8080/"
    },
    "executionInfo": {
     "elapsed": 585,
     "status": "ok",
     "timestamp": 1618944810701,
     "user": {
      "displayName": "Jared Chan",
      "photoUrl": "",
      "userId": "15404677321579359479"
     },
     "user_tz": 420
    },
    "id": "wnkKiSrwnWoq",
    "outputId": "56c94611-c47b-474c-cb28-dbe8055e0d0a"
   },
   "outputs": [
    {
     "data": {
      "text/plain": [
       "torch.Size([2, 1, 4051])"
      ]
     },
     "execution_count": 44,
     "metadata": {},
     "output_type": "execute_result"
    }
   ],
   "source": [
    "c.shape"
   ]
  },
  {
   "cell_type": "code",
   "execution_count": 45,
   "metadata": {
    "id": "136w_DwInXMB"
   },
   "outputs": [],
   "source": [
    "#o, s = model(c.to(device).float(), states)\n",
    "# 1) Calcul du batch size\n",
    "batch_size = c.size(0)  # par ex. 2 si c.shape[0] == 2\n",
    "\n",
    "# 2) Réinitialisation des hidden et cell states\n",
    "h0, c0 = model.zero_states(batchsize=batch_size)\n",
    "states = (h0.to(device), c0.to(device))\n",
    "\n",
    "# 3) Appel du modèle avec les bons états\n",
    "o, s = model(c.to(device).float(), states)"
   ]
  },
  {
   "cell_type": "code",
   "execution_count": 46,
   "metadata": {
    "colab": {
     "base_uri": "https://localhost:8080/"
    },
    "executionInfo": {
     "elapsed": 457,
     "status": "ok",
     "timestamp": 1618944654458,
     "user": {
      "displayName": "Jared Chan",
      "photoUrl": "",
      "userId": "15404677321579359479"
     },
     "user_tz": 420
    },
    "id": "2GWY0hhNnnOR",
    "outputId": "813b3903-abbc-4fe4-84a6-5c06f83e9327"
   },
   "outputs": [
    {
     "data": {
      "text/plain": [
       "torch.Size([2, 1, 1200])"
      ]
     },
     "execution_count": 46,
     "metadata": {},
     "output_type": "execute_result"
    }
   ],
   "source": [
    "o.shape"
   ]
  },
  {
   "cell_type": "code",
   "execution_count": 47,
   "metadata": {
    "colab": {
     "base_uri": "https://localhost:8080/"
    },
    "executionInfo": {
     "elapsed": 479,
     "status": "ok",
     "timestamp": 1618944676199,
     "user": {
      "displayName": "Jared Chan",
      "photoUrl": "",
      "userId": "15404677321579359479"
     },
     "user_tz": 420
    },
    "id": "Nf1A48N0nts4",
    "outputId": "1dc22309-b0cf-41e7-bcf3-b1c7faedcbd2"
   },
   "outputs": [
    {
     "data": {
      "text/plain": [
       "torch.Size([2, 2, 1200])"
      ]
     },
     "execution_count": 47,
     "metadata": {},
     "output_type": "execute_result"
    }
   ],
   "source": [
    "s[0].shape"
   ]
  },
  {
   "cell_type": "code",
   "execution_count": 48,
   "metadata": {
    "colab": {
     "base_uri": "https://localhost:8080/"
    },
    "executionInfo": {
     "elapsed": 759,
     "status": "ok",
     "timestamp": 1618944688985,
     "user": {
      "displayName": "Jared Chan",
      "photoUrl": "",
      "userId": "15404677321579359479"
     },
     "user_tz": 420
    },
    "id": "2ZO1oZlYnwyZ",
    "outputId": "c3bc6511-39f1-40af-90e4-47478df95ade"
   },
   "outputs": [
    {
     "data": {
      "text/plain": [
       "torch.Size([2, 2, 1200])"
      ]
     },
     "execution_count": 48,
     "metadata": {},
     "output_type": "execute_result"
    }
   ],
   "source": [
    "s[1].shape"
   ]
  },
  {
   "cell_type": "code",
   "execution_count": 49,
   "metadata": {
    "id": "Sl5zRAYun84B"
   },
   "outputs": [
    {
     "name": "stdout",
     "output_type": "stream",
     "text": [
      "oo: torch.Size([1, 1, 1200]) ss_hidden: torch.Size([2, 1, 1200])\n"
     ]
    }
   ],
   "source": [
    "# Retrieve initial hidden and cell states for a batch of size 1 from the model\n",
    "h0_s, c0_s = model.zero_states(batchsize=1)\n",
    "\n",
    "# Move the initial LSTM states to the appropriate device (CPU or GPU)\n",
    "states = (h0_s.to(device), c0_s.to(device))\n",
    "\n",
    "# Select the first sample from the dataset:\n",
    "#  - ds[0] gives a (features, target) tuple\n",
    "#  - ds[0][0] extracts the feature tensor for the first lap\n",
    "#  - unsqueeze(0) twice to add both batch and time‐step dimensions\n",
    "#  - cast to float and move to device for computation\n",
    "oo, ss = model(\n",
    "    ds[0][0]\n",
    "      .unsqueeze(0)    # add batch dimension -> shape becomes (1, features)\n",
    "      .unsqueeze(0)    # add time dimension -> shape becomes (1, 1, features)\n",
    "      .float()         # ensure tensor is float32\n",
    "      .to(device),     # send tensor to CPU or GPU\n",
    "    states             # initial hidden and cell states\n",
    ")\n",
    "\n",
    "# Print the shapes of:\n",
    "#  - oo: the model’s output tensor for this single time step\n",
    "#  - ss[0]: the hidden state tensor after this forward pass\n",
    "print(\"oo:\", oo.shape, \"ss_hidden:\", ss[0].shape)"
   ]
  },
  {
   "cell_type": "code",
   "execution_count": 50,
   "metadata": {
    "colab": {
     "base_uri": "https://localhost:8080/"
    },
    "executionInfo": {
     "elapsed": 254,
     "status": "ok",
     "timestamp": 1618944753351,
     "user": {
      "displayName": "Jared Chan",
      "photoUrl": "",
      "userId": "15404677321579359479"
     },
     "user_tz": 420
    },
    "id": "_1Y6U171oGjh",
    "outputId": "c9b0ec01-4dcb-469e-9c1e-52000bc80ace"
   },
   "outputs": [
    {
     "data": {
      "text/plain": [
       "torch.Size([1, 1, 1200])"
      ]
     },
     "execution_count": 50,
     "metadata": {},
     "output_type": "execute_result"
    }
   ],
   "source": [
    "oo.shape"
   ]
  },
  {
   "cell_type": "code",
   "execution_count": 51,
   "metadata": {
    "colab": {
     "base_uri": "https://localhost:8080/"
    },
    "executionInfo": {
     "elapsed": 770,
     "status": "ok",
     "timestamp": 1618944760534,
     "user": {
      "displayName": "Jared Chan",
      "photoUrl": "",
      "userId": "15404677321579359479"
     },
     "user_tz": 420
    },
    "id": "-CdXrCGxoHsA",
    "outputId": "e2f1f089-83f1-428b-a803-6efff03a5292"
   },
   "outputs": [
    {
     "data": {
      "text/plain": [
       "torch.Size([2, 1, 1200])"
      ]
     },
     "execution_count": 51,
     "metadata": {},
     "output_type": "execute_result"
    }
   ],
   "source": [
    "ss[0].shape"
   ]
  },
  {
   "cell_type": "code",
   "execution_count": 52,
   "metadata": {
    "colab": {
     "base_uri": "https://localhost:8080/"
    },
    "executionInfo": {
     "elapsed": 802,
     "status": "ok",
     "timestamp": 1618944769434,
     "user": {
      "displayName": "Jared Chan",
      "photoUrl": "",
      "userId": "15404677321579359479"
     },
     "user_tz": 420
    },
    "id": "n0_y_w5KoJRZ",
    "outputId": "48107104-e0b9-4444-f309-134cf9858b9b"
   },
   "outputs": [
    {
     "data": {
      "text/plain": [
       "2"
      ]
     },
     "execution_count": 52,
     "metadata": {},
     "output_type": "execute_result"
    }
   ],
   "source": [
    "len(ss)"
   ]
  },
  {
   "cell_type": "code",
   "execution_count": null,
   "metadata": {
    "id": "_WvpF_90oLjw"
   },
   "outputs": [],
   "source": []
  }
 ],
 "metadata": {
  "accelerator": "GPU",
  "colab": {
   "collapsed_sections": [
    "5QaDtXQhz9mQ"
   ],
   "name": "RacePrediction5.ipynb",
   "provenance": []
  },
  "kernelspec": {
   "display_name": "Python 3",
   "language": "python",
   "name": "python3"
  },
  "language_info": {
   "codemirror_mode": {
    "name": "ipython",
    "version": 3
   },
   "file_extension": ".py",
   "mimetype": "text/x-python",
   "name": "python",
   "nbconvert_exporter": "python",
   "pygments_lexer": "ipython3",
   "version": "3.9.13"
  }
 },
 "nbformat": 4,
 "nbformat_minor": 0
}
