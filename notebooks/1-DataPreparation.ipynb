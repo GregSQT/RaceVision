{
 "cells": [
  {
   "cell_type": "markdown",
   "metadata": {
    "id": "t3XyRRv59HSc"
   },
   "source": [
    "# RaceVision - Data Preparation\n",
    "Data are from Ergast DB : http://ergast.com/mrd/db/  \n",
    "\n",
    "This model uses an LSTM to predict the positions, laptimes and pitstops for 20 drivers. \n",
    "Features to add : \n",
    "- Weather\n",
    "- Tyres and track types\n",
    "- (if rules chage, fuel weight impact on lap time and pit stop)"
   ]
  },
  {
   "cell_type": "markdown",
   "metadata": {},
   "source": [
    "## Initialization"
   ]
  },
  {
   "cell_type": "code",
   "execution_count": 1,
   "metadata": {
    "id": "doNwHl0MW1Gc"
   },
   "outputs": [],
   "source": [
    "#%pip install matplotlib\n",
    "import matplotlib.pyplot as plt\n",
    "#%pip install pandas\n",
    "import pandas as pd\n",
    "#%pip install numpy\n",
    "import numpy as np\n",
    "#%pip install tqdm\n",
    "from tqdm.auto import tqdm\n",
    "#%pip install os\n",
    "import os\n",
    "#%pip install torch\n",
    "import torch, torch.nn as nn, torch.optim as optim, torch.nn.functional as F\n",
    "#%pip install math\n",
    "import math\n",
    "#%pip install pathlib\n",
    "from pathlib import Path"
   ]
  },
  {
   "cell_type": "code",
   "execution_count": 2,
   "metadata": {
    "id": "TRzwB-Te0RVX"
   },
   "outputs": [],
   "source": [
    "db_dir = Path(r\"E:\\Dropbox\\Informatique\\Holberton\\F1_Project\\db\")"
   ]
  },
  {
   "cell_type": "code",
   "execution_count": 3,
   "metadata": {
    "id": "cL9wd2FF_l8m"
   },
   "outputs": [],
   "source": [
    "# The time format in the Ergast database is MM:SS.ms\n",
    "# For a better work, we split aroud the \":\" and express it in seconds (float)\n",
    "def time_to_int(t):\n",
    "  # If input is already float type, return as-is\n",
    "  if (t == float):\n",
    "    return t\n",
    "  t2 = str(t)\n",
    "  ts = t2.rsplit(':')\n",
    "  # Handle missing values\n",
    "  if ('\\\\N' in t2):\n",
    "    return None # missing data\n",
    "  if (not '.' in t2):\n",
    "    return None # unexpected format\n",
    "  # Convert minutes and seconds to total seconds\n",
    "  if (len(ts) > 1):\n",
    "    return int(ts[0]) * 60 + float(ts[1])\n",
    "  else:\n",
    "    return float(ts[0])"
   ]
  },
  {
   "cell_type": "markdown",
   "metadata": {
    "id": "UOC-9UbSrKXq"
   },
   "source": [
    "## Data preparation\n",
    "\n",
    "Each csv file contains information of one race, and each row contains information of a lap."
   ]
  },
  {
   "cell_type": "code",
   "execution_count": 4,
   "metadata": {
    "id": "lrRxCfVBBtxE"
   },
   "outputs": [
    {
     "data": {
      "application/vnd.jupyter.widget-view+json": {
       "model_id": "6586a395437c4b708dfbb209ba51aa3d",
       "version_major": 2,
       "version_minor": 0
      },
      "text/plain": [
       "  0%|          | 0/462 [00:00<?, ?it/s]"
      ]
     },
     "metadata": {},
     "output_type": "display_data"
    }
   ],
   "source": [
    "# -----------------------------------------------------------------------------\n",
    "# Build Per-Race, Per-Lap Data for Modeling/Analysis\n",
    "# -----------------------------------------------------------------------------\n",
    "# This script transforms raw F1 CSVs into per-race CSV files where each row\n",
    "# represents a lap and each column block represents one driver on the grid.\n",
    "# It captures pre-race (lap 0) qualifying snapshots, live positions, lap times,\n",
    "# pit-stop flags, and driver/constructor standings at race start.\n",
    "# -----------------------------------------------------------------------------\n",
    "\n",
    "# -----------------------------------------------------------------------------\n",
    "# 1) Load Master Tables\n",
    "# -----------------------------------------------------------------------------\n",
    "races = pd.read_csv(db_dir / 'races.csv')                       # - races: race metadata (year, round, circuit, etc.)\n",
    "d_standings = pd.read_csv(db_dir / 'driver_standings.csv')      # - Driver_standings: standings after each round\n",
    "c_standings = pd.read_csv(db_dir / 'constructor_standings.csv') # - Constructor_standings: standings after each round\n",
    "quali = pd.read_csv(db_dir / 'qualifying.csv')                  # - Qualifying: Q1/Q2/Q3 lap times\n",
    "pit_stops = pd.read_csv(db_dir / 'pit_stops.csv')               # - Pit_stops: pit stop events (from 2012 onward)\n",
    "lap_times = pd.read_csv(db_dir / 'lap_times.csv')               # - Lap_times: every driver’s lap-by-lap time\n",
    "results = pd.read_csv(db_dir / 'results.csv')                   # - Results: final finishing order and status per driver per race\n",
    "\n",
    "# -----------------------------------------------------------------------------\n",
    "# 2) Select Relevant Races\n",
    "# -----------------------------------------------------------------------------\n",
    "races_selection = races.query('year  >= 2001')\n",
    "rids = races_selection['raceId']  # Getting the IDs of all the races since 2001\n",
    "\n",
    "\n",
    "# -----------------------------------------------------------------------------\n",
    "# 3) Iterate over each race\n",
    "# -----------------------------------------------------------------------------\n",
    "# Loop over each race ID with a progress bar\n",
    "for i in tqdm(rids):\n",
    "  # Getting the raceID, and the year of this race\n",
    "  race_info = races.query(f'raceId == {i}')\n",
    "  year = race_info['year'].item()\n",
    "\n",
    "  # Skip the 2024 season (we save it for tests)\n",
    "  if (year == 2024):\n",
    "    continue\n",
    "\n",
    "  # Get the circuit where the race was held\n",
    "  circuit = race_info['circuitId'].item()\n",
    "\n",
    "  # Prepare output path: db_dir/races/<year>\n",
    "  if not os.path.exists(db_dir / f'races/{year}'):\n",
    "      os.makedirs(db_dir / f'races/{year}')\n",
    "\n",
    "  # Skip if we've already built the CSV for this race\n",
    "  if os.path.exists(db_dir / f'races/{year}/race{i}.csv'):\n",
    "    continue\n",
    "\n",
    "  # Determine which standings to use (prior to this race)\n",
    "  if (race_info['round'].item() > 1):\n",
    "    # For rounds >1, use previous raceId = i-1\n",
    "    d_standing_pre_race = d_standings.query(f'raceId == {i-1}')\n",
    "    c_standing_pre_race = c_standings.query(f'raceId == {i-1}')\n",
    "  else:\n",
    "    # If this is the first race, roll back to the last race of the previous season\n",
    "    prev_s = races.query(f'year == {year - 1}')\n",
    "    prev_s = prev_s.sort_values(by=['round'])\n",
    "    prev_s = prev_s.reset_index()\n",
    "    prev_last_race = prev_s['raceId'].iloc[-1]\n",
    "    d_standing_pre_race  = d_standings.query(f'raceId == {prev_last_race}')\n",
    "    c_standing_pre_race  = c_standings.query(f'raceId == {prev_last_race}')\n",
    "  \n",
    "  # Load all per-race sub-tables\n",
    "  quali_info = quali.query(f'raceId == {i}')          # qualifying data\n",
    "  r_laptimes = lap_times.query(f'raceId == {i}')      # lap times\n",
    "  r_pitstops = pit_stops.query(f'raceId == {i}')      # pit stops\n",
    "  r_results = results.query(f'raceId == {i}')         # final results\n",
    "\n",
    "  # Sort results to find number of laps (winner’s laps) and to get grid order\n",
    "  r_results_sorted = r_results.sort_values('position').reset_index(drop=True)\n",
    "  num_of_laps = r_results_sorted['laps'].iloc[0]\n",
    "\n",
    "  # Get the starting grid order (pole position to P20)\n",
    "  r_results_sorted_grid = r_results.sort_values('grid').reset_index(drop=True)\n",
    "  \n",
    "  # -----------------------------------------------------------------------------\n",
    "  # 4) Build blank DataFrame schema for per-lap records\n",
    "  # -----------------------------------------------------------------------------\n",
    "  # Prepare empty DataFrame: one row per lap, columns for circuit + 20 drivers * various features\n",
    "\n",
    "  columns = ['circuitId']\n",
    "  for k in range(20):\n",
    "    columns.extend([\n",
    "      f'driverId{k+1}',\n",
    "      f'driverStanding{k+1}',\n",
    "      f'constructorStanding{k+1}',\n",
    "      f'position{k+1}',\n",
    "      f'inPit{k+1}',\n",
    "      f'status{k+1}',\n",
    "      f'laptime{k+1}'\n",
    "    ])\n",
    "  df = pd.DataFrame(columns=columns)\n",
    "\n",
    "  # Instead of concatenating inside the loop, collect rows here\n",
    "  all_rows = []\n",
    "\n",
    "  # -----------------------------------------------------------------------------\n",
    "  # 5) Populate each lap row (lap 0 = qualifying baseline)\n",
    "  # -----------------------------------------------------------------------------\n",
    "  # Each lap is a row, each race is a dataframe\n",
    "  for lap_num in range(0, num_of_laps + 1):\n",
    "   \n",
    "     # Lists to collect per-driver data for this lap\n",
    "    driver_ids = []\n",
    "    d_s = [] # Driver's standings\n",
    "    c_s = [] # Constructor's standings\n",
    "    pos = [] # Driver's position\n",
    "    pit = [] # Pit stop (1) or not (0)\n",
    "    statuses = [] # Status of the driver\n",
    "    lps = [] # Laptimes (in seconds)\n",
    "\n",
    "    # Build each lap row: lap 0 is pre-race (qualifying), laps 1..N are race laps\n",
    "    # Loop drivers in starting grid order (pole → P20)\n",
    "    for id in r_results_sorted_grid['driverId']:\n",
    "      driver_ids.append(id)\n",
    "      constructorId = r_results.query(f'driverId == {id}')['constructorId'].item()\n",
    "      d_s_p = d_standing_pre_race.query(f'driverId == {id}')['position']\n",
    "      if (not d_s_p.empty):\n",
    "        d_s.append(d_s_p.item())\n",
    "      else:\n",
    "        d_s.append(20)\n",
    "      c_s_p = c_standing_pre_race.query(f'constructorId == {constructorId}')['position']\n",
    "      if (not c_s_p.empty):\n",
    "        c_s.append(c_s_p.item())\n",
    "      else:\n",
    "        c_s.append(10)\n",
    "      if (lap_num == 0):\n",
    "        p = quali_info.query(f'driverId == {id}')['position']\n",
    "        if (not p.empty):\n",
    "          p = p.item()\n",
    "        else:\n",
    "          p = 21\n",
    "      else:\n",
    "        p = r_laptimes.query(f'driverId == {id} & lap == {lap_num}')['position']\n",
    "        if (not p.empty): # position could be null\n",
    "          p = p.item()\n",
    "        else:\n",
    "          p = 21 # 21 means retired\n",
    "      pos.append(p)\n",
    "      inp = r_pitstops.query(f'driverId == {id} & lap == {lap_num}')\n",
    "      if (not inp.empty):\n",
    "        pit.append(1)\n",
    "      else:\n",
    "        pit.append(0)\n",
    "\n",
    "      # Zeroth lap laptime is quali laptime\n",
    "      if (lap_num == 0):\n",
    "        q3_s = quali_info.query(f'driverId == {id}')['q3']\n",
    "        if (not q3_s.empty):\n",
    "          q3 = time_to_int(q3_s.item())\n",
    "        else:\n",
    "          q3 = None\n",
    "        q2_s = quali_info.query(f'driverId == {id}')['q2']\n",
    "        if (not q2_s.empty):\n",
    "          q2 = time_to_int(q2_s.item())\n",
    "        else:\n",
    "          q2 = None\n",
    "        q1_s = quali_info.query(f'driverId == {id}')['q1']\n",
    "        if (not q1_s.empty):\n",
    "          q1 = time_to_int(q1_s.item())\n",
    "        else:\n",
    "          q1 = None\n",
    "        if (q3):\n",
    "          lps.append(q3)\n",
    "        elif (q2):\n",
    "          lps.append(q2)\n",
    "        elif (q1):\n",
    "          lps.append(q1)\n",
    "        else:\n",
    "          lps.append(0)\n",
    "        statuses.append(0) # 0 when in race or before race start\n",
    "      elif (r_results.query(f'driverId == {id}')['laps'].item() <= lap_num): # check if driver has retired\n",
    "        statuses.append(r_results.query(f'driverId == {id}')['statusId'].item())\n",
    "        lps.append(0)\n",
    "      else:\n",
    "        statuses.append(0)\n",
    "        t = r_laptimes.query(f'driverId == {id} & lap == {lap_num}')['time']\n",
    "        if (not t.empty): \n",
    "          lps.append(time_to_int(t.item()))\n",
    "        else: # if somehow we cant find a laptime\n",
    "          lps.append(0)\n",
    "    row = {}\n",
    "    row['circuitId'] = circuit\n",
    "    for j in range(len(driver_ids)):\n",
    "        row[f'driverId{j+1}'] = driver_ids[j]\n",
    "        row[f'driverStanding{j+1}'] = d_s[j]\n",
    "        row[f'constructorStanding{j+1}'] = c_s[j]\n",
    "        row[f'position{j+1}'] = pos[j]\n",
    "        row[f'inPit{j+1}'] = pit[j]\n",
    "        row[f'status{j+1}'] = statuses[j]\n",
    "        row[f'laptime{j+1}'] = lps[j]\n",
    "    all_rows.append(row)\n",
    "  df = pd.DataFrame(all_rows, columns=columns)\n",
    "  output_path = db_dir / 'races' / str(year) / f'race{i}.csv'\n",
    "  df.to_csv(output_path, index=False)\n",
    "    \n"
   ]
  },
  {
   "cell_type": "markdown",
   "metadata": {},
   "source": [
    "## Data preparation\n",
    "\n",
    "Each csv file contains information of one race, and each row contains information of a lap."
   ]
  },
  {
   "cell_type": "code",
   "execution_count": 5,
   "metadata": {
    "colab": {
     "base_uri": "https://localhost:8080/",
     "height": 66,
     "referenced_widgets": [
      "e7aa0f091c3b45c3ab160ac69cd88c3a",
      "f9c08e0a73504906a0b14ba72e474a54",
      "ef02aeffc6684705addbe7a1d7b8427d",
      "ce7bc575dfea4f819dcac8e2f55805a1",
      "8f11913713c346e3bd7ada237dcc49fb",
      "ebb023886de84558a078be2f35debcbb",
      "6e065e1c28eb4b0c91c19954d6c42e42",
      "d9bc66f8f7db47d6bd2f8003bb8dede3"
     ]
    },
    "executionInfo": {
     "elapsed": 19995,
     "status": "ok",
     "timestamp": 1618776475299,
     "user": {
      "displayName": "Jared Chan",
      "photoUrl": "",
      "userId": "15404677321579359479"
     },
     "user_tz": 420
    },
    "id": "0XrbDS_YhnUo",
    "outputId": "43ba3d64-7a67-46f4-ccac-877435ac4d66"
   },
   "outputs": [
    {
     "data": {
      "application/vnd.jupyter.widget-view+json": {
       "model_id": "58d6de865cd64f4b8f40fada2f1490f4",
       "version_major": 2,
       "version_minor": 0
      },
      "text/plain": [
       "Gathering driver IDs:   0%|          | 0/462 [00:00<?, ?it/s]"
      ]
     },
     "metadata": {},
     "output_type": "display_data"
    }
   ],
   "source": [
    "# Open relevant files\n",
    "races = pd.read_csv(db_dir / 'races.csv')\n",
    "results = pd.read_csv(db_dir / 'results.csv')\n",
    "\n",
    "# Collect all driverIds across selected races\n",
    "all_drivers = []\n",
    "for race_id in tqdm(rids, desc=\"Gathering driver IDs\"):\n",
    "    r_results = results.query(f'raceId == {race_id}')\n",
    "    all_drivers.extend(r_results['driverId'].tolist())\n",
    "\n",
    "# Create DataFrame of unique drivers, sorted\n",
    "dddf = pd.DataFrame({'driverId': sorted(set(all_drivers))})\n",
    "\n",
    "# Write to CSV without an unwanted index column\n",
    "# This line was modified to drop the default index\n",
    "dddf.to_csv(db_dir / 'drivers_short.csv', index=False)"
   ]
  },
  {
   "cell_type": "code",
   "execution_count": 6,
   "metadata": {
    "id": "Xd0ZyhuQlpbP"
   },
   "outputs": [],
   "source": [
    "# Create a DataFrame with unique driver IDs\n",
    "#ddf = pd.DataFrame({'driverId':df['driverId'].unique()})"
   ]
  },
  {
   "cell_type": "code",
   "execution_count": 7,
   "metadata": {
    "id": "ED8Hi_ZUmjWF"
   },
   "outputs": [],
   "source": [
    "#\n",
    "dddf = dddf.sort_values(by=['driverId']).reset_index()"
   ]
  },
  {
   "cell_type": "code",
   "execution_count": 8,
   "metadata": {
    "id": "355T-Knum4oE"
   },
   "outputs": [
    {
     "data": {
      "text/html": [
       "<div>\n",
       "<style scoped>\n",
       "    .dataframe tbody tr th:only-of-type {\n",
       "        vertical-align: middle;\n",
       "    }\n",
       "\n",
       "    .dataframe tbody tr th {\n",
       "        vertical-align: top;\n",
       "    }\n",
       "\n",
       "    .dataframe thead th {\n",
       "        text-align: right;\n",
       "    }\n",
       "</style>\n",
       "<table border=\"1\" class=\"dataframe\">\n",
       "  <thead>\n",
       "    <tr style=\"text-align: right;\">\n",
       "      <th></th>\n",
       "      <th>driverId</th>\n",
       "    </tr>\n",
       "  </thead>\n",
       "  <tbody>\n",
       "    <tr>\n",
       "      <th>0</th>\n",
       "      <td>1</td>\n",
       "    </tr>\n",
       "    <tr>\n",
       "      <th>1</th>\n",
       "      <td>2</td>\n",
       "    </tr>\n",
       "    <tr>\n",
       "      <th>2</th>\n",
       "      <td>3</td>\n",
       "    </tr>\n",
       "    <tr>\n",
       "      <th>3</th>\n",
       "      <td>4</td>\n",
       "    </tr>\n",
       "    <tr>\n",
       "      <th>4</th>\n",
       "      <td>5</td>\n",
       "    </tr>\n",
       "    <tr>\n",
       "      <th>...</th>\n",
       "      <td>...</td>\n",
       "    </tr>\n",
       "    <tr>\n",
       "      <th>119</th>\n",
       "      <td>858</td>\n",
       "    </tr>\n",
       "    <tr>\n",
       "      <th>120</th>\n",
       "      <td>859</td>\n",
       "    </tr>\n",
       "    <tr>\n",
       "      <th>121</th>\n",
       "      <td>860</td>\n",
       "    </tr>\n",
       "    <tr>\n",
       "      <th>122</th>\n",
       "      <td>861</td>\n",
       "    </tr>\n",
       "    <tr>\n",
       "      <th>123</th>\n",
       "      <td>862</td>\n",
       "    </tr>\n",
       "  </tbody>\n",
       "</table>\n",
       "<p>124 rows × 1 columns</p>\n",
       "</div>"
      ],
      "text/plain": [
       "     driverId\n",
       "0           1\n",
       "1           2\n",
       "2           3\n",
       "3           4\n",
       "4           5\n",
       "..        ...\n",
       "119       858\n",
       "120       859\n",
       "121       860\n",
       "122       861\n",
       "123       862\n",
       "\n",
       "[124 rows x 1 columns]"
      ]
     },
     "execution_count": 8,
     "metadata": {},
     "output_type": "execute_result"
    }
   ],
   "source": [
    "dddf = dddf.drop(columns=['index'])\n",
    "dddf"
   ]
  },
  {
   "cell_type": "code",
   "execution_count": 9,
   "metadata": {
    "id": "OeyAW6vHnHF6"
   },
   "outputs": [],
   "source": [
    "dddf.to_csv(db_dir / f'drivers_short.csv')"
   ]
  },
  {
   "cell_type": "code",
   "execution_count": 10,
   "metadata": {
    "id": "SQDhAEhZxxBy"
   },
   "outputs": [
    {
     "name": "stdout",
     "output_type": "stream",
     "text": [
      "2001\n",
      "2002\n",
      "2003\n",
      "2004\n",
      "2005\n",
      "2006\n",
      "2007\n",
      "2008\n",
      "2009\n",
      "2010\n",
      "2011\n",
      "2012\n",
      "2013\n",
      "2014\n",
      "2015\n",
      "2016\n",
      "2017\n",
      "2018\n",
      "2019\n",
      "2020\n",
      "2021\n",
      "2022\n",
      "2023\n"
     ]
    }
   ],
   "source": [
    "years = range(2001, 2024)   #range(2001, 2024)\n",
    "for year in years:\n",
    "  if not os.path.exists(db_dir / f'races/{year}'):\n",
    "      os.makedirs(db_dir / f'races/{year}')\n",
    "\n",
    "  cur_year = os.listdir(db_dir / f'races/{year}/')\n",
    "  for r in cur_year:\n",
    "    #if os.path.exists(db_dir / f'races/{year}/{r}'):\n",
    "    #  continue\n",
    "    \n",
    "    cur_race = pd.read_csv(db_dir / f'races/{year}/{r}')\n",
    "    for j in range(20):\n",
    "      col = f'inPit{j+1}'\n",
    "      for i in range(len(cur_race)-1):\n",
    "        if cur_race.at[i+1, col] == 1:\n",
    "            cur_race.loc[i,   col] = 1\n",
    "            cur_race.loc[i+1, col] = 0\n",
    "      cur_race.rename(columns={col: f'inPit{j+1}'}, inplace=True)\n",
    "\n",
    "    cur_race.to_csv(db_dir / f'races/{year}/{r}', index=False)\n",
    "  print(year)\n",
    "    \n"
   ]
  },
  {
   "cell_type": "code",
   "execution_count": 11,
   "metadata": {
    "colab": {
     "base_uri": "https://localhost:8080/"
    },
    "executionInfo": {
     "elapsed": 262656,
     "status": "ok",
     "timestamp": 1618874489793,
     "user": {
      "displayName": "Jared Chan",
      "photoUrl": "",
      "userId": "15404677321579359479"
     },
     "user_tz": 420
    },
    "id": "gwGC0sk3ap6g",
    "outputId": "ab29afe1-1082-4b54-8215-bcfb094032a7"
   },
   "outputs": [
    {
     "name": "stdout",
     "output_type": "stream",
     "text": [
      "2001\n",
      "2002\n",
      "2003\n",
      "2004\n",
      "2005\n",
      "2006\n",
      "2007\n",
      "2008\n",
      "2009\n",
      "2010\n",
      "2011\n",
      "2012\n",
      "2013\n",
      "2014\n",
      "2015\n",
      "2016\n",
      "2017\n",
      "2018\n",
      "2019\n",
      "2020\n",
      "2021\n",
      "2022\n",
      "2023\n"
     ]
    }
   ],
   "source": [
    "years = range(2001, 2024)   #range(2001, 2024)\n",
    "numlaps = []\n",
    "for y in years:\n",
    "  cur_year = os.listdir(db_dir / f'races/{y}/')\n",
    "  for r in cur_year:\n",
    "    cur_race = pd.read_csv(db_dir / f'races/{y}/{r}')\n",
    "    numlaps.append(len(cur_race) - 1)\n",
    "  print(y)"
   ]
  },
  {
   "cell_type": "code",
   "execution_count": 12,
   "metadata": {
    "colab": {
     "base_uri": "https://localhost:8080/"
    },
    "executionInfo": {
     "elapsed": 523,
     "status": "ok",
     "timestamp": 1618874501000,
     "user": {
      "displayName": "Jared Chan",
      "photoUrl": "",
      "userId": "15404677321579359479"
     },
     "user_tz": 420
    },
    "id": "Ul0--VSYbR6O",
    "outputId": "02b5c033-a388-4d6a-8b62-fb3af63862c2"
   },
   "outputs": [
    {
     "name": "stdout",
     "output_type": "stream",
     "text": [
      "[1, 28, 31, 36, 43, 44, 44, 44, 44, 44, 44, 44, 44, 44, 44, 44, 44, 44, 44, 44, 44, 44, 44, 44, 45, 49, 50, 50, 50, 50, 51, 51, 51, 51, 51, 51, 51, 51, 51, 52, 52, 52, 52, 52, 52, 52, 52, 52, 52, 52, 52, 52, 52, 52, 52, 53, 53, 53, 53, 53, 53, 53, 53, 53, 53, 53, 53, 53, 53, 53, 53, 53, 53, 53, 53, 53, 53, 53, 53, 53, 53, 53, 53, 53, 53, 53, 53, 53, 53, 53, 53, 53, 53, 53, 53, 53, 53, 53, 53, 53, 53, 53, 53, 53, 54, 54, 55, 55, 55, 55, 55, 55, 55, 55, 55, 55, 55, 55, 55, 55, 55, 55, 55, 56, 56, 56, 56, 56, 56, 56, 56, 56, 56, 56, 56, 56, 56, 56, 56, 56, 56, 56, 56, 56, 56, 56, 56, 56, 56, 56, 56, 56, 56, 56, 56, 56, 56, 56, 56, 56, 56, 56, 56, 56, 56, 57, 57, 57, 57, 57, 57, 57, 57, 57, 57, 57, 57, 57, 57, 57, 57, 57, 57, 57, 57, 57, 57, 57, 57, 57, 57, 57, 57, 57, 57, 57, 58, 58, 58, 58, 58, 58, 58, 58, 58, 58, 58, 58, 58, 58, 58, 58, 58, 58, 58, 58, 58, 58, 58, 58, 58, 58, 58, 58, 58, 59, 59, 59, 59, 59, 60, 60, 60, 60, 60, 60, 60, 60, 60, 60, 60, 60, 60, 60, 60, 60, 60, 60, 60, 60, 60, 61, 61, 61, 61, 61, 61, 61, 61, 61, 62, 62, 62, 62, 62, 62, 62, 63, 63, 63, 64, 64, 65, 65, 65, 65, 66, 66, 66, 66, 66, 66, 66, 66, 66, 66, 66, 66, 66, 66, 66, 66, 66, 66, 66, 66, 66, 66, 67, 67, 67, 67, 67, 67, 67, 67, 67, 67, 67, 67, 67, 68, 69, 69, 69, 69, 70, 70, 70, 70, 70, 70, 70, 70, 70, 70, 70, 70, 70, 70, 70, 70, 70, 70, 70, 70, 70, 70, 70, 70, 70, 70, 70, 70, 70, 70, 70, 70, 70, 70, 70, 70, 70, 70, 70, 70, 70, 70, 70, 71, 71, 71, 71, 71, 71, 71, 71, 71, 71, 71, 71, 71, 71, 71, 71, 71, 71, 71, 71, 71, 71, 71, 71, 71, 71, 71, 71, 71, 71, 71, 71, 71, 71, 71, 71, 71, 71, 71, 71, 71, 71, 71, 72, 72, 72, 72, 72, 73, 73, 73, 73, 73, 73, 73, 76, 77, 77, 77, 78, 78, 78, 78, 78, 78, 78, 78, 78, 78, 78, 78, 78, 78, 78, 78, 78, 78, 78, 87]\n",
      "87\n"
     ]
    }
   ],
   "source": [
    "numlaps.sort()\n",
    "print(numlaps)\n",
    "print(numlaps[-1])"
   ]
  }
 ],
 "metadata": {
  "accelerator": "GPU",
  "colab": {
   "collapsed_sections": [
    "6TwmxP89Z2Ju",
    "TAgWGGnVZ8Em",
    "lyC9lQyBq50i",
    "5QaDtXQhz9mQ",
    "Vs4e1ysY0Fnq"
   ],
   "name": "RacePrediction.ipynb",
   "provenance": []
  },
  "kernelspec": {
   "display_name": "Python 3",
   "language": "python",
   "name": "python3"
  },
  "language_info": {
   "codemirror_mode": {
    "name": "ipython",
    "version": 3
   },
   "file_extension": ".py",
   "mimetype": "text/x-python",
   "name": "python",
   "nbconvert_exporter": "python",
   "pygments_lexer": "ipython3",
   "version": "3.9.13"
  },
  "widgets": {
   "application/vnd.jupyter.widget-state+json": {
    "5214b0ca55d54251b68278cc9312e242": {
     "model_module": "@jupyter-widgets/controls",
     "model_name": "ProgressStyleModel",
     "state": {
      "_model_module": "@jupyter-widgets/controls",
      "_model_module_version": "1.5.0",
      "_model_name": "ProgressStyleModel",
      "_view_count": null,
      "_view_module": "@jupyter-widgets/base",
      "_view_module_version": "1.2.0",
      "_view_name": "StyleView",
      "bar_color": null,
      "description_width": "initial"
     }
    },
    "5ae2e8071e2a41c5bf98b0d9fd76718e": {
     "model_module": "@jupyter-widgets/controls",
     "model_name": "DescriptionStyleModel",
     "state": {
      "_model_module": "@jupyter-widgets/controls",
      "_model_module_version": "1.5.0",
      "_model_name": "DescriptionStyleModel",
      "_view_count": null,
      "_view_module": "@jupyter-widgets/base",
      "_view_module_version": "1.2.0",
      "_view_name": "StyleView",
      "description_width": ""
     }
    },
    "5fced8ae993b4a38a821546b89a3afc5": {
     "model_module": "@jupyter-widgets/base",
     "model_name": "LayoutModel",
     "state": {
      "_model_module": "@jupyter-widgets/base",
      "_model_module_version": "1.2.0",
      "_model_name": "LayoutModel",
      "_view_count": null,
      "_view_module": "@jupyter-widgets/base",
      "_view_module_version": "1.2.0",
      "_view_name": "LayoutView",
      "align_content": null,
      "align_items": null,
      "align_self": null,
      "border": null,
      "bottom": null,
      "display": null,
      "flex": null,
      "flex_flow": null,
      "grid_area": null,
      "grid_auto_columns": null,
      "grid_auto_flow": null,
      "grid_auto_rows": null,
      "grid_column": null,
      "grid_gap": null,
      "grid_row": null,
      "grid_template_areas": null,
      "grid_template_columns": null,
      "grid_template_rows": null,
      "height": null,
      "justify_content": null,
      "justify_items": null,
      "left": null,
      "margin": null,
      "max_height": null,
      "max_width": null,
      "min_height": null,
      "min_width": null,
      "object_fit": null,
      "object_position": null,
      "order": null,
      "overflow": null,
      "overflow_x": null,
      "overflow_y": null,
      "padding": null,
      "right": null,
      "top": null,
      "visibility": null,
      "width": null
     }
    },
    "6e065e1c28eb4b0c91c19954d6c42e42": {
     "model_module": "@jupyter-widgets/controls",
     "model_name": "DescriptionStyleModel",
     "state": {
      "_model_module": "@jupyter-widgets/controls",
      "_model_module_version": "1.5.0",
      "_model_name": "DescriptionStyleModel",
      "_view_count": null,
      "_view_module": "@jupyter-widgets/base",
      "_view_module_version": "1.2.0",
      "_view_name": "StyleView",
      "description_width": ""
     }
    },
    "8f11913713c346e3bd7ada237dcc49fb": {
     "model_module": "@jupyter-widgets/controls",
     "model_name": "ProgressStyleModel",
     "state": {
      "_model_module": "@jupyter-widgets/controls",
      "_model_module_version": "1.5.0",
      "_model_name": "ProgressStyleModel",
      "_view_count": null,
      "_view_module": "@jupyter-widgets/base",
      "_view_module_version": "1.2.0",
      "_view_name": "StyleView",
      "bar_color": null,
      "description_width": "initial"
     }
    },
    "a6baec4b7b7e443896c836bc99ddfd6f": {
     "model_module": "@jupyter-widgets/controls",
     "model_name": "HBoxModel",
     "state": {
      "_dom_classes": [],
      "_model_module": "@jupyter-widgets/controls",
      "_model_module_version": "1.5.0",
      "_model_name": "HBoxModel",
      "_view_count": null,
      "_view_module": "@jupyter-widgets/controls",
      "_view_module_version": "1.5.0",
      "_view_name": "HBoxView",
      "box_style": "",
      "children": [
       "IPY_MODEL_c95a2da0e28a40d8ae74deb35d10f12e",
       "IPY_MODEL_d1dcc5c8e55a4aa784599778e4e38e34"
      ],
      "layout": "IPY_MODEL_ae29572236544f69b7e63e89f6185b2d"
     }
    },
    "ae29572236544f69b7e63e89f6185b2d": {
     "model_module": "@jupyter-widgets/base",
     "model_name": "LayoutModel",
     "state": {
      "_model_module": "@jupyter-widgets/base",
      "_model_module_version": "1.2.0",
      "_model_name": "LayoutModel",
      "_view_count": null,
      "_view_module": "@jupyter-widgets/base",
      "_view_module_version": "1.2.0",
      "_view_name": "LayoutView",
      "align_content": null,
      "align_items": null,
      "align_self": null,
      "border": null,
      "bottom": null,
      "display": null,
      "flex": null,
      "flex_flow": null,
      "grid_area": null,
      "grid_auto_columns": null,
      "grid_auto_flow": null,
      "grid_auto_rows": null,
      "grid_column": null,
      "grid_gap": null,
      "grid_row": null,
      "grid_template_areas": null,
      "grid_template_columns": null,
      "grid_template_rows": null,
      "height": null,
      "justify_content": null,
      "justify_items": null,
      "left": null,
      "margin": null,
      "max_height": null,
      "max_width": null,
      "min_height": null,
      "min_width": null,
      "object_fit": null,
      "object_position": null,
      "order": null,
      "overflow": null,
      "overflow_x": null,
      "overflow_y": null,
      "padding": null,
      "right": null,
      "top": null,
      "visibility": null,
      "width": null
     }
    },
    "c95a2da0e28a40d8ae74deb35d10f12e": {
     "model_module": "@jupyter-widgets/controls",
     "model_name": "FloatProgressModel",
     "state": {
      "_dom_classes": [],
      "_model_module": "@jupyter-widgets/controls",
      "_model_module_version": "1.5.0",
      "_model_name": "FloatProgressModel",
      "_view_count": null,
      "_view_module": "@jupyter-widgets/controls",
      "_view_module_version": "1.5.0",
      "_view_name": "ProgressView",
      "bar_style": "success",
      "description": "epochs: 100%",
      "description_tooltip": null,
      "layout": "IPY_MODEL_c9f741b583fd4cdabb290c0ff77ef170",
      "max": 10,
      "min": 0,
      "orientation": "horizontal",
      "style": "IPY_MODEL_5214b0ca55d54251b68278cc9312e242",
      "value": 10
     }
    },
    "c9f741b583fd4cdabb290c0ff77ef170": {
     "model_module": "@jupyter-widgets/base",
     "model_name": "LayoutModel",
     "state": {
      "_model_module": "@jupyter-widgets/base",
      "_model_module_version": "1.2.0",
      "_model_name": "LayoutModel",
      "_view_count": null,
      "_view_module": "@jupyter-widgets/base",
      "_view_module_version": "1.2.0",
      "_view_name": "LayoutView",
      "align_content": null,
      "align_items": null,
      "align_self": null,
      "border": null,
      "bottom": null,
      "display": null,
      "flex": null,
      "flex_flow": null,
      "grid_area": null,
      "grid_auto_columns": null,
      "grid_auto_flow": null,
      "grid_auto_rows": null,
      "grid_column": null,
      "grid_gap": null,
      "grid_row": null,
      "grid_template_areas": null,
      "grid_template_columns": null,
      "grid_template_rows": null,
      "height": null,
      "justify_content": null,
      "justify_items": null,
      "left": null,
      "margin": null,
      "max_height": null,
      "max_width": null,
      "min_height": null,
      "min_width": null,
      "object_fit": null,
      "object_position": null,
      "order": null,
      "overflow": null,
      "overflow_x": null,
      "overflow_y": null,
      "padding": null,
      "right": null,
      "top": null,
      "visibility": null,
      "width": null
     }
    },
    "ce7bc575dfea4f819dcac8e2f55805a1": {
     "model_module": "@jupyter-widgets/controls",
     "model_name": "HTMLModel",
     "state": {
      "_dom_classes": [],
      "_model_module": "@jupyter-widgets/controls",
      "_model_module_version": "1.5.0",
      "_model_name": "HTMLModel",
      "_view_count": null,
      "_view_module": "@jupyter-widgets/controls",
      "_view_module_version": "1.5.0",
      "_view_name": "HTMLView",
      "description": "",
      "description_tooltip": null,
      "layout": "IPY_MODEL_d9bc66f8f7db47d6bd2f8003bb8dede3",
      "placeholder": "​",
      "style": "IPY_MODEL_6e065e1c28eb4b0c91c19954d6c42e42",
      "value": " 395/395 [01:27&lt;00:00,  4.51it/s]"
     }
    },
    "d1dcc5c8e55a4aa784599778e4e38e34": {
     "model_module": "@jupyter-widgets/controls",
     "model_name": "HTMLModel",
     "state": {
      "_dom_classes": [],
      "_model_module": "@jupyter-widgets/controls",
      "_model_module_version": "1.5.0",
      "_model_name": "HTMLModel",
      "_view_count": null,
      "_view_module": "@jupyter-widgets/controls",
      "_view_module_version": "1.5.0",
      "_view_name": "HTMLView",
      "description": "",
      "description_tooltip": null,
      "layout": "IPY_MODEL_5fced8ae993b4a38a821546b89a3afc5",
      "placeholder": "​",
      "style": "IPY_MODEL_5ae2e8071e2a41c5bf98b0d9fd76718e",
      "value": " 10/10 [08:23&lt;00:00, 50.32s/ep]"
     }
    },
    "d9bc66f8f7db47d6bd2f8003bb8dede3": {
     "model_module": "@jupyter-widgets/base",
     "model_name": "LayoutModel",
     "state": {
      "_model_module": "@jupyter-widgets/base",
      "_model_module_version": "1.2.0",
      "_model_name": "LayoutModel",
      "_view_count": null,
      "_view_module": "@jupyter-widgets/base",
      "_view_module_version": "1.2.0",
      "_view_name": "LayoutView",
      "align_content": null,
      "align_items": null,
      "align_self": null,
      "border": null,
      "bottom": null,
      "display": null,
      "flex": null,
      "flex_flow": null,
      "grid_area": null,
      "grid_auto_columns": null,
      "grid_auto_flow": null,
      "grid_auto_rows": null,
      "grid_column": null,
      "grid_gap": null,
      "grid_row": null,
      "grid_template_areas": null,
      "grid_template_columns": null,
      "grid_template_rows": null,
      "height": null,
      "justify_content": null,
      "justify_items": null,
      "left": null,
      "margin": null,
      "max_height": null,
      "max_width": null,
      "min_height": null,
      "min_width": null,
      "object_fit": null,
      "object_position": null,
      "order": null,
      "overflow": null,
      "overflow_x": null,
      "overflow_y": null,
      "padding": null,
      "right": null,
      "top": null,
      "visibility": null,
      "width": null
     }
    },
    "e7aa0f091c3b45c3ab160ac69cd88c3a": {
     "model_module": "@jupyter-widgets/controls",
     "model_name": "HBoxModel",
     "state": {
      "_dom_classes": [],
      "_model_module": "@jupyter-widgets/controls",
      "_model_module_version": "1.5.0",
      "_model_name": "HBoxModel",
      "_view_count": null,
      "_view_module": "@jupyter-widgets/controls",
      "_view_module_version": "1.5.0",
      "_view_name": "HBoxView",
      "box_style": "",
      "children": [
       "IPY_MODEL_ef02aeffc6684705addbe7a1d7b8427d",
       "IPY_MODEL_ce7bc575dfea4f819dcac8e2f55805a1"
      ],
      "layout": "IPY_MODEL_f9c08e0a73504906a0b14ba72e474a54"
     }
    },
    "ebb023886de84558a078be2f35debcbb": {
     "model_module": "@jupyter-widgets/base",
     "model_name": "LayoutModel",
     "state": {
      "_model_module": "@jupyter-widgets/base",
      "_model_module_version": "1.2.0",
      "_model_name": "LayoutModel",
      "_view_count": null,
      "_view_module": "@jupyter-widgets/base",
      "_view_module_version": "1.2.0",
      "_view_name": "LayoutView",
      "align_content": null,
      "align_items": null,
      "align_self": null,
      "border": null,
      "bottom": null,
      "display": null,
      "flex": null,
      "flex_flow": null,
      "grid_area": null,
      "grid_auto_columns": null,
      "grid_auto_flow": null,
      "grid_auto_rows": null,
      "grid_column": null,
      "grid_gap": null,
      "grid_row": null,
      "grid_template_areas": null,
      "grid_template_columns": null,
      "grid_template_rows": null,
      "height": null,
      "justify_content": null,
      "justify_items": null,
      "left": null,
      "margin": null,
      "max_height": null,
      "max_width": null,
      "min_height": null,
      "min_width": null,
      "object_fit": null,
      "object_position": null,
      "order": null,
      "overflow": null,
      "overflow_x": null,
      "overflow_y": null,
      "padding": null,
      "right": null,
      "top": null,
      "visibility": null,
      "width": null
     }
    },
    "ef02aeffc6684705addbe7a1d7b8427d": {
     "model_module": "@jupyter-widgets/controls",
     "model_name": "FloatProgressModel",
     "state": {
      "_dom_classes": [],
      "_model_module": "@jupyter-widgets/controls",
      "_model_module_version": "1.5.0",
      "_model_name": "FloatProgressModel",
      "_view_count": null,
      "_view_module": "@jupyter-widgets/controls",
      "_view_module_version": "1.5.0",
      "_view_name": "ProgressView",
      "bar_style": "success",
      "description": "100%",
      "description_tooltip": null,
      "layout": "IPY_MODEL_ebb023886de84558a078be2f35debcbb",
      "max": 395,
      "min": 0,
      "orientation": "horizontal",
      "style": "IPY_MODEL_8f11913713c346e3bd7ada237dcc49fb",
      "value": 395
     }
    },
    "f9c08e0a73504906a0b14ba72e474a54": {
     "model_module": "@jupyter-widgets/base",
     "model_name": "LayoutModel",
     "state": {
      "_model_module": "@jupyter-widgets/base",
      "_model_module_version": "1.2.0",
      "_model_name": "LayoutModel",
      "_view_count": null,
      "_view_module": "@jupyter-widgets/base",
      "_view_module_version": "1.2.0",
      "_view_name": "LayoutView",
      "align_content": null,
      "align_items": null,
      "align_self": null,
      "border": null,
      "bottom": null,
      "display": null,
      "flex": null,
      "flex_flow": null,
      "grid_area": null,
      "grid_auto_columns": null,
      "grid_auto_flow": null,
      "grid_auto_rows": null,
      "grid_column": null,
      "grid_gap": null,
      "grid_row": null,
      "grid_template_areas": null,
      "grid_template_columns": null,
      "grid_template_rows": null,
      "height": null,
      "justify_content": null,
      "justify_items": null,
      "left": null,
      "margin": null,
      "max_height": null,
      "max_width": null,
      "min_height": null,
      "min_width": null,
      "object_fit": null,
      "object_position": null,
      "order": null,
      "overflow": null,
      "overflow_x": null,
      "overflow_y": null,
      "padding": null,
      "right": null,
      "top": null,
      "visibility": null,
      "width": null
     }
    }
   }
  }
 },
 "nbformat": 4,
 "nbformat_minor": 0
}
